{
 "cells": [
  {
   "cell_type": "markdown",
   "metadata": {},
   "source": [
    "\n",
    "* https://biopython.readthedocs.io/en/latest/chapter_cluster.html"
   ]
  },
  {
   "cell_type": "code",
   "execution_count": 1,
   "metadata": {},
   "outputs": [],
   "source": [
    "import sys,os,shutil,subprocess\n",
    "import numpy as np\n",
    "import pandas as pd\n",
    "import pylab as plt\n",
    "import seaborn as sns\n",
    "from Bio import SeqIO\n",
    "from Bio.Seq import Seq\n",
    "from Bio.SeqRecord import SeqRecord\n",
    "from Bio import Phylo\n",
    "from Bio.Phylo.TreeConstruction import DistanceMatrix,DistanceTreeConstructor\n",
    "from Bio.Cluster import distancematrix\n",
    "from pathogenie import tools"
   ]
  },
  {
   "cell_type": "code",
   "execution_count": 2,
   "metadata": {},
   "outputs": [],
   "source": [
    "df = pd.read_csv('maf_feature_matrix.csv')\n",
    "X = df.iloc[:,3:].T"
   ]
  },
  {
   "cell_type": "code",
   "execution_count": 3,
   "metadata": {},
   "outputs": [
    {
     "data": {
      "text/html": [
       "<div>\n",
       "<style scoped>\n",
       "    .dataframe tbody tr th:only-of-type {\n",
       "        vertical-align: middle;\n",
       "    }\n",
       "\n",
       "    .dataframe tbody tr th {\n",
       "        vertical-align: top;\n",
       "    }\n",
       "\n",
       "    .dataframe thead th {\n",
       "        text-align: right;\n",
       "    }\n",
       "</style>\n",
       "<table border=\"1\" class=\"dataframe\">\n",
       "  <thead>\n",
       "    <tr style=\"text-align: right;\">\n",
       "      <th></th>\n",
       "      <th>0</th>\n",
       "      <th>1</th>\n",
       "      <th>2</th>\n",
       "      <th>3</th>\n",
       "      <th>4</th>\n",
       "      <th>5</th>\n",
       "      <th>6</th>\n",
       "      <th>7</th>\n",
       "      <th>8</th>\n",
       "      <th>9</th>\n",
       "      <th>...</th>\n",
       "      <th>24</th>\n",
       "      <th>25</th>\n",
       "      <th>26</th>\n",
       "      <th>27</th>\n",
       "      <th>28</th>\n",
       "      <th>29</th>\n",
       "      <th>30</th>\n",
       "      <th>31</th>\n",
       "      <th>32</th>\n",
       "      <th>33</th>\n",
       "    </tr>\n",
       "  </thead>\n",
       "  <tbody>\n",
       "    <tr>\n",
       "      <th>GCA_000253355.1_ASM25335v1_genomic</th>\n",
       "      <td>0.000000</td>\n",
       "      <td>5.291503</td>\n",
       "      <td>4.123106</td>\n",
       "      <td>3.872983</td>\n",
       "      <td>4.898979</td>\n",
       "      <td>4.898979</td>\n",
       "      <td>9.433981</td>\n",
       "      <td>3.162278</td>\n",
       "      <td>4.690416</td>\n",
       "      <td>6.164414</td>\n",
       "      <td>...</td>\n",
       "      <td>4.472136</td>\n",
       "      <td>4.795832</td>\n",
       "      <td>5.477226</td>\n",
       "      <td>10.488088</td>\n",
       "      <td>7.615773</td>\n",
       "      <td>6.082763</td>\n",
       "      <td>9.746794</td>\n",
       "      <td>7.280110</td>\n",
       "      <td>7.211103</td>\n",
       "      <td>10.049876</td>\n",
       "    </tr>\n",
       "    <tr>\n",
       "      <th>GCA_000665865.1_Myco_afri_K85_V1_genomic</th>\n",
       "      <td>5.291503</td>\n",
       "      <td>0.000000</td>\n",
       "      <td>4.582576</td>\n",
       "      <td>5.196152</td>\n",
       "      <td>4.898979</td>\n",
       "      <td>4.898979</td>\n",
       "      <td>9.327379</td>\n",
       "      <td>5.477226</td>\n",
       "      <td>3.741657</td>\n",
       "      <td>6.000000</td>\n",
       "      <td>...</td>\n",
       "      <td>5.291503</td>\n",
       "      <td>4.582576</td>\n",
       "      <td>4.472136</td>\n",
       "      <td>10.583005</td>\n",
       "      <td>7.211103</td>\n",
       "      <td>6.403124</td>\n",
       "      <td>9.643651</td>\n",
       "      <td>7.681146</td>\n",
       "      <td>7.211103</td>\n",
       "      <td>10.049876</td>\n",
       "    </tr>\n",
       "    <tr>\n",
       "      <th>GCA_000666065.1_Myco_afri_MAL010084_V1_genomic</th>\n",
       "      <td>4.123106</td>\n",
       "      <td>4.582576</td>\n",
       "      <td>0.000000</td>\n",
       "      <td>4.472136</td>\n",
       "      <td>4.358899</td>\n",
       "      <td>4.123106</td>\n",
       "      <td>9.055385</td>\n",
       "      <td>3.605551</td>\n",
       "      <td>4.582576</td>\n",
       "      <td>5.916080</td>\n",
       "      <td>...</td>\n",
       "      <td>4.795832</td>\n",
       "      <td>4.472136</td>\n",
       "      <td>4.358899</td>\n",
       "      <td>10.246951</td>\n",
       "      <td>7.141428</td>\n",
       "      <td>5.656854</td>\n",
       "      <td>9.380832</td>\n",
       "      <td>7.483315</td>\n",
       "      <td>7.000000</td>\n",
       "      <td>9.797959</td>\n",
       "    </tr>\n",
       "  </tbody>\n",
       "</table>\n",
       "<p>3 rows × 34 columns</p>\n",
       "</div>"
      ],
      "text/plain": [
       "                                                      0         1         2   \\\n",
       "GCA_000253355.1_ASM25335v1_genomic              0.000000  5.291503  4.123106   \n",
       "GCA_000665865.1_Myco_afri_K85_V1_genomic        5.291503  0.000000  4.582576   \n",
       "GCA_000666065.1_Myco_afri_MAL010084_V1_genomic  4.123106  4.582576  0.000000   \n",
       "\n",
       "                                                      3         4         5   \\\n",
       "GCA_000253355.1_ASM25335v1_genomic              3.872983  4.898979  4.898979   \n",
       "GCA_000665865.1_Myco_afri_K85_V1_genomic        5.196152  4.898979  4.898979   \n",
       "GCA_000666065.1_Myco_afri_MAL010084_V1_genomic  4.472136  4.358899  4.123106   \n",
       "\n",
       "                                                      6         7         8   \\\n",
       "GCA_000253355.1_ASM25335v1_genomic              9.433981  3.162278  4.690416   \n",
       "GCA_000665865.1_Myco_afri_K85_V1_genomic        9.327379  5.477226  3.741657   \n",
       "GCA_000666065.1_Myco_afri_MAL010084_V1_genomic  9.055385  3.605551  4.582576   \n",
       "\n",
       "                                                      9   ...        24  \\\n",
       "GCA_000253355.1_ASM25335v1_genomic              6.164414  ...  4.472136   \n",
       "GCA_000665865.1_Myco_afri_K85_V1_genomic        6.000000  ...  5.291503   \n",
       "GCA_000666065.1_Myco_afri_MAL010084_V1_genomic  5.916080  ...  4.795832   \n",
       "\n",
       "                                                      25        26         27  \\\n",
       "GCA_000253355.1_ASM25335v1_genomic              4.795832  5.477226  10.488088   \n",
       "GCA_000665865.1_Myco_afri_K85_V1_genomic        4.582576  4.472136  10.583005   \n",
       "GCA_000666065.1_Myco_afri_MAL010084_V1_genomic  4.472136  4.358899  10.246951   \n",
       "\n",
       "                                                      28        29        30  \\\n",
       "GCA_000253355.1_ASM25335v1_genomic              7.615773  6.082763  9.746794   \n",
       "GCA_000665865.1_Myco_afri_K85_V1_genomic        7.211103  6.403124  9.643651   \n",
       "GCA_000666065.1_Myco_afri_MAL010084_V1_genomic  7.141428  5.656854  9.380832   \n",
       "\n",
       "                                                      31        32         33  \n",
       "GCA_000253355.1_ASM25335v1_genomic              7.280110  7.211103  10.049876  \n",
       "GCA_000665865.1_Myco_afri_K85_V1_genomic        7.681146  7.211103  10.049876  \n",
       "GCA_000666065.1_Myco_afri_MAL010084_V1_genomic  7.483315  7.000000   9.797959  \n",
       "\n",
       "[3 rows x 34 columns]"
      ]
     },
     "execution_count": 3,
     "metadata": {},
     "output_type": "execute_result"
    }
   ],
   "source": [
    "from sklearn import metrics\n",
    "mat = metrics.pairwise_distances(X)\n",
    "dfmat = pd.DataFrame(mat,index=X.index)\n",
    "#sns.clustermap(dfmat,figsize=(14,8),col_cluster=False)\n",
    "dfmat[:3]"
   ]
  },
  {
   "cell_type": "code",
   "execution_count": 4,
   "metadata": {},
   "outputs": [
    {
     "data": {
      "text/html": [
       "<div>\n",
       "<style scoped>\n",
       "    .dataframe tbody tr th:only-of-type {\n",
       "        vertical-align: middle;\n",
       "    }\n",
       "\n",
       "    .dataframe tbody tr th {\n",
       "        vertical-align: top;\n",
       "    }\n",
       "\n",
       "    .dataframe thead th {\n",
       "        text-align: right;\n",
       "    }\n",
       "</style>\n",
       "<table border=\"1\" class=\"dataframe\">\n",
       "  <thead>\n",
       "    <tr style=\"text-align: right;\">\n",
       "      <th></th>\n",
       "      <th>0</th>\n",
       "      <th>1</th>\n",
       "      <th>2</th>\n",
       "      <th>3</th>\n",
       "      <th>4</th>\n",
       "      <th>5</th>\n",
       "      <th>6</th>\n",
       "      <th>7</th>\n",
       "      <th>8</th>\n",
       "      <th>9</th>\n",
       "      <th>...</th>\n",
       "      <th>23</th>\n",
       "      <th>24</th>\n",
       "      <th>25</th>\n",
       "      <th>26</th>\n",
       "      <th>27</th>\n",
       "      <th>28</th>\n",
       "      <th>29</th>\n",
       "      <th>30</th>\n",
       "      <th>31</th>\n",
       "      <th>32</th>\n",
       "    </tr>\n",
       "  </thead>\n",
       "  <tbody>\n",
       "    <tr>\n",
       "      <th>GCA_000253355.1_ASM25335v1_genomic</th>\n",
       "      <td>NaN</td>\n",
       "      <td>NaN</td>\n",
       "      <td>NaN</td>\n",
       "      <td>NaN</td>\n",
       "      <td>NaN</td>\n",
       "      <td>NaN</td>\n",
       "      <td>NaN</td>\n",
       "      <td>NaN</td>\n",
       "      <td>NaN</td>\n",
       "      <td>NaN</td>\n",
       "      <td>...</td>\n",
       "      <td>NaN</td>\n",
       "      <td>NaN</td>\n",
       "      <td>NaN</td>\n",
       "      <td>NaN</td>\n",
       "      <td>NaN</td>\n",
       "      <td>NaN</td>\n",
       "      <td>NaN</td>\n",
       "      <td>NaN</td>\n",
       "      <td>NaN</td>\n",
       "      <td>NaN</td>\n",
       "    </tr>\n",
       "    <tr>\n",
       "      <th>GCA_000665865.1_Myco_afri_K85_V1_genomic</th>\n",
       "      <td>0.007189</td>\n",
       "      <td>NaN</td>\n",
       "      <td>NaN</td>\n",
       "      <td>NaN</td>\n",
       "      <td>NaN</td>\n",
       "      <td>NaN</td>\n",
       "      <td>NaN</td>\n",
       "      <td>NaN</td>\n",
       "      <td>NaN</td>\n",
       "      <td>NaN</td>\n",
       "      <td>...</td>\n",
       "      <td>NaN</td>\n",
       "      <td>NaN</td>\n",
       "      <td>NaN</td>\n",
       "      <td>NaN</td>\n",
       "      <td>NaN</td>\n",
       "      <td>NaN</td>\n",
       "      <td>NaN</td>\n",
       "      <td>NaN</td>\n",
       "      <td>NaN</td>\n",
       "      <td>NaN</td>\n",
       "    </tr>\n",
       "    <tr>\n",
       "      <th>GCA_000666065.1_Myco_afri_MAL010084_V1_genomic</th>\n",
       "      <td>0.004365</td>\n",
       "      <td>0.005392</td>\n",
       "      <td>NaN</td>\n",
       "      <td>NaN</td>\n",
       "      <td>NaN</td>\n",
       "      <td>NaN</td>\n",
       "      <td>NaN</td>\n",
       "      <td>NaN</td>\n",
       "      <td>NaN</td>\n",
       "      <td>NaN</td>\n",
       "      <td>...</td>\n",
       "      <td>NaN</td>\n",
       "      <td>NaN</td>\n",
       "      <td>NaN</td>\n",
       "      <td>NaN</td>\n",
       "      <td>NaN</td>\n",
       "      <td>NaN</td>\n",
       "      <td>NaN</td>\n",
       "      <td>NaN</td>\n",
       "      <td>NaN</td>\n",
       "      <td>NaN</td>\n",
       "    </tr>\n",
       "  </tbody>\n",
       "</table>\n",
       "<p>3 rows × 33 columns</p>\n",
       "</div>"
      ],
      "text/plain": [
       "                                                      0         1   2   3   \\\n",
       "GCA_000253355.1_ASM25335v1_genomic                   NaN       NaN NaN NaN   \n",
       "GCA_000665865.1_Myco_afri_K85_V1_genomic        0.007189       NaN NaN NaN   \n",
       "GCA_000666065.1_Myco_afri_MAL010084_V1_genomic  0.004365  0.005392 NaN NaN   \n",
       "\n",
       "                                                4   5   6   7   8   9   ...  \\\n",
       "GCA_000253355.1_ASM25335v1_genomic             NaN NaN NaN NaN NaN NaN  ...   \n",
       "GCA_000665865.1_Myco_afri_K85_V1_genomic       NaN NaN NaN NaN NaN NaN  ...   \n",
       "GCA_000666065.1_Myco_afri_MAL010084_V1_genomic NaN NaN NaN NaN NaN NaN  ...   \n",
       "\n",
       "                                                23  24  25  26  27  28  29  \\\n",
       "GCA_000253355.1_ASM25335v1_genomic             NaN NaN NaN NaN NaN NaN NaN   \n",
       "GCA_000665865.1_Myco_afri_K85_V1_genomic       NaN NaN NaN NaN NaN NaN NaN   \n",
       "GCA_000666065.1_Myco_afri_MAL010084_V1_genomic NaN NaN NaN NaN NaN NaN NaN   \n",
       "\n",
       "                                                30  31  32  \n",
       "GCA_000253355.1_ASM25335v1_genomic             NaN NaN NaN  \n",
       "GCA_000665865.1_Myco_afri_K85_V1_genomic       NaN NaN NaN  \n",
       "GCA_000666065.1_Myco_afri_MAL010084_V1_genomic NaN NaN NaN  \n",
       "\n",
       "[3 rows x 33 columns]"
      ]
     },
     "execution_count": 4,
     "metadata": {},
     "output_type": "execute_result"
    }
   ],
   "source": [
    "mat = distancematrix(X)\n",
    "dfmat = pd.DataFrame(mat,index=X.index)\n",
    "dfmat[:3]"
   ]
  },
  {
   "cell_type": "code",
   "execution_count": 5,
   "metadata": {},
   "outputs": [
    {
     "data": {
      "text/plain": [
       "<matplotlib.collections.PathCollection at 0x7fe039ba41c0>"
      ]
     },
     "execution_count": 5,
     "metadata": {},
     "output_type": "execute_result"
    },
    {
     "data": {
      "image/png": "[encoded data removed]",
      "text/plain": [
       "<Figure size 576x576 with 1 Axes>"
      ]
     },
     "metadata": {
      "needs_background": "light"
     },
     "output_type": "display_data"
    }
   ],
   "source": [
    "from Bio.Cluster import treecluster\n",
    "tree = treecluster(X)\n",
    "#print (tree)\n",
    "from Bio.Cluster import kcluster\n",
    "clusterid, error, nfound = kcluster(X)\n",
    "clusterid\n",
    "from Bio.Cluster import pca\n",
    "columnmean, coordinates, components, eigenvalues = pca(X)\n",
    "\n",
    "f,ax=plt.subplots(1,1,figsize=(8,8))\n",
    "plt.scatter(x=coordinates[1],y=coordinates[2])"
   ]
  },
  {
   "cell_type": "code",
   "execution_count": 6,
   "metadata": {},
   "outputs": [],
   "source": [
    "names = list(X.index)\n",
    "names = [i[16:] for i in names]\n",
    "new=[]\n",
    "for i in mat:\n",
    "    new.append(np.insert(i, 0, 0).tolist())\n",
    "\n",
    "dm = DistanceMatrix(names,new)\n",
    "constructor = DistanceTreeConstructor()\n",
    "tree = constructor.nj(dm)"
   ]
  },
  {
   "cell_type": "code",
   "execution_count": null,
   "metadata": {},
   "outputs": [],
   "source": [
    "dm.matrix"
   ]
  },
  {
   "cell_type": "code",
   "execution_count": null,
   "metadata": {},
   "outputs": [],
   "source": [
    "f,ax=plt.subplots(1,1,figsize=(13,10))\n",
    "ax.axis('off')\n",
    "Phylo.draw(tree,axes=ax)"
   ]
  },
  {
   "cell_type": "code",
   "execution_count": 7,
   "metadata": {},
   "outputs": [
    {
     "data": {
      "image/png": "[encoded data removed]",
      "text/plain": [
       "<Figure size 720x576 with 1 Axes>"
      ]
     },
     "metadata": {
      "needs_background": "light"
     },
     "output_type": "display_data"
    },
    {
     "data": {
      "text/plain": [
       "(<Figure size 720x576 with 1 Axes>, Tree(rooted=False))"
      ]
     },
     "execution_count": 7,
     "metadata": {},
     "output_type": "execute_result"
    }
   ],
   "source": [
    "tools.draw_tree(tree)"
   ]
  },
  {
   "cell_type": "code",
   "execution_count": 182,
   "metadata": {},
   "outputs": [],
   "source": [
    "Phylo.draw_ascii(tree,file=open('temp.txt','w'))"
   ]
  },
  {
   "cell_type": "code",
   "execution_count": null,
   "metadata": {},
   "outputs": [],
   "source": []
  }
 ],
 "metadata": {
  "kernelspec": {
   "display_name": "Python 3",
   "language": "python",
   "name": "python3"
  },
  "language_info": {
   "codemirror_mode": {
    "name": "ipython",
    "version": 3
   },
   "file_extension": ".py",
   "mimetype": "text/x-python",
   "name": "python",
   "nbconvert_exporter": "python",
   "pygments_lexer": "ipython3",
   "version": "3.8.2"
  }
 },
 "nbformat": 4,
 "nbformat_minor": 4
}
