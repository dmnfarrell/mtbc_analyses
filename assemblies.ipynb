{
 "cells": [
  {
   "cell_type": "markdown",
   "metadata": {},
   "source": [
    "## fetch assemblies"
   ]
  },
  {
   "cell_type": "code",
   "execution_count": 1,
   "metadata": {},
   "outputs": [],
   "source": [
    "import pandas as pd\n",
    "from Bio import Entrez\n",
    "import json\n",
    "Entrez.email = \"Your.Name.Here@example.org\""
   ]
  },
  {
   "cell_type": "code",
   "execution_count": 2,
   "metadata": {},
   "outputs": [],
   "source": [
    "def get_ids(term):\n",
    "    ids = []\n",
    "    handle = Entrez.esearch(db=\"assembly\", term=term)\n",
    "    record = Entrez.read(handle)\n",
    "    ids.append(record[\"IdList\"])\n",
    "    return ids"
   ]
  },
  {
   "cell_type": "code",
   "execution_count": 3,
   "metadata": {},
   "outputs": [],
   "source": [
    "#Fetch raw output\n",
    "def get_raw_assembly_summary(id):\n",
    "    handle = Entrez.esummary(db=\"assembly\",id=id,report=\"full\")\n",
    "    record = Entrez.read(handle)\n",
    "    #Return individual fields\n",
    "    #XML output: https://eutils.ncbi.nlm.nih.gov/entrez/eutils/esummary.fcgi?db=assembly&id=79781&report=%22full%22\n",
    "    #return(record['DocumentSummarySet']['DocumentSummary'][0]['AssemblyName']) #This will return the Assembly name\n",
    "    return(record)\n",
    "\n",
    "def get_assembly_summary_json(id):\n",
    "    handle = Entrez.esummary(db=\"assembly\",id=id,report=\"full\")\n",
    "    record = Entrez.read(handle)\n",
    "    #Convert raw output to json\n",
    "    return(json.dumps(record, sort_keys=True,indent=4, separators=(',', ': ')))"
   ]
  },
  {
   "cell_type": "code",
   "execution_count": null,
   "metadata": {},
   "outputs": [],
   "source": [
    "term=\"mycobacterium canetti\"\n",
    "for id in get_ids(term):\n",
    "    print (id)\n",
    "    #print(get_raw_assembly_summary(id)) #For raw output\n",
    "    print(get_assembly_summary_json(id)) #JSON Formatted"
   ]
  },
  {
   "cell_type": "code",
   "execution_count": 28,
   "metadata": {},
   "outputs": [],
   "source": [
    "handle = Entrez.esummary(db=\"assembly\",id='642398',report=\"full\")\n",
    "record = Entrez.read(handle)\n",
    "x=json.dumps(record, sort_keys=True,indent=4, separators=(',', ': '))"
   ]
  },
  {
   "cell_type": "markdown",
   "metadata": {},
   "source": [
    "## put assembly info into table"
   ]
  },
  {
   "cell_type": "code",
   "execution_count": null,
   "metadata": {},
   "outputs": [],
   "source": [
    "# Do a search and get assemblies\n",
    "found=[]\n",
    "terms = [\"Mycobacterium marinum[Orgn]\",\"Mycobacterium canettii[Orgn]\",\"Mycobacterium ulcerans[Orgn]\",\"Mycobacterium tuberculosis\"]\n",
    "terms = [\"Mycobacterium orygis\"]\n",
    "for term in terms:\n",
    "    df = tools.get_assembly_info(term)\n",
    "    found.append(df)\n",
    "found = pd.concat(found)"
   ]
  },
  {
   "cell_type": "code",
   "execution_count": 18,
   "metadata": {},
   "outputs": [],
   "source": [
    "found.to_csv('assemblies_data.csv',index=False)"
   ]
  },
  {
   "cell_type": "code",
   "execution_count": null,
   "metadata": {},
   "outputs": [],
   "source": []
  }
 ],
 "metadata": {
  "kernelspec": {
   "display_name": "Python 3",
   "language": "python",
   "name": "python3"
  },
  "language_info": {
   "codemirror_mode": {
    "name": "ipython",
    "version": 3
   },
   "file_extension": ".py",
   "mimetype": "text/x-python",
   "name": "python",
   "nbconvert_exporter": "python",
   "pygments_lexer": "ipython3",
   "version": "3.7.3"
  }
 },
 "nbformat": 4,
 "nbformat_minor": 4
}
