{
 "cells": [
  {
   "cell_type": "markdown",
   "metadata": {},
   "source": [
    "## RD900 region - identification of duplication events in MTBC\n",
    "\n",
    "**Objective:**\n",
    "\n",
    "Identify duplication events in RD900 MTBC using available genome assemblies.\n",
    "\n",
    "**Method:**\n",
    "\n",
    "1. identify assemblies to use including sub-sampling MTB an Mbovis genomes by choosing best qualities\n",
    "2. decide which sub sequences we want to use to detect presence of a gene in contigs\n",
    "3. for each assembly:\n",
    "    * make a blast database\n",
    "    * blast sub-sequence(s) to it\n",
    "    * store result\n",
    "4. make a matrix of presence absence for each genome\n",
    "5. make a species tree and use the matrix to determine parsimony\n",
    "\n",
    "**Links:**\n",
    "\n",
    "* https://github.com/dmnfarrell/rd900\n",
    "* https://www.ncbi.nlm.nih.gov/gene/1090581"
   ]
  },
  {
   "cell_type": "markdown",
   "metadata": {},
   "source": [
    "<img src=\"img/pknh_orthologs.png\" width=500></img>"
   ]
  },
  {
   "cell_type": "code",
   "execution_count": 35,
   "metadata": {},
   "outputs": [],
   "source": [
    "import os, glob, subprocess, shutil\n",
    "import urllib\n",
    "from importlib import reload\n",
    "from Bio import SeqIO\n",
    "from Bio.Seq import Seq\n",
    "from Bio.SeqRecord import SeqRecord\n",
    "from Bio.SeqFeature import SeqFeature, FeatureLocation\n",
    "from BCBio import GFF\n",
    "import numpy as np\n",
    "import pandas as pd\n",
    "import pylab as plt\n",
    "import seaborn as sns\n",
    "import tools\n",
    "pd.set_option(\"display.width\",140)"
   ]
  },
  {
   "cell_type": "code",
   "execution_count": 36,
   "metadata": {},
   "outputs": [
    {
     "data": {
      "text/html": [
       "<div>\n",
       "<style scoped>\n",
       "    .dataframe tbody tr th:only-of-type {\n",
       "        vertical-align: middle;\n",
       "    }\n",
       "\n",
       "    .dataframe tbody tr th {\n",
       "        vertical-align: top;\n",
       "    }\n",
       "\n",
       "    .dataframe thead th {\n",
       "        text-align: right;\n",
       "    }\n",
       "</style>\n",
       "<table border=\"1\" class=\"dataframe\">\n",
       "  <thead>\n",
       "    <tr style=\"text-align: right;\">\n",
       "      <th></th>\n",
       "      <th>Organism_Name</th>\n",
       "      <th>Strain</th>\n",
       "      <th>CladeID</th>\n",
       "      <th>BioSample</th>\n",
       "      <th>BioProject</th>\n",
       "      <th>Group</th>\n",
       "      <th>SubGroup</th>\n",
       "      <th>Assembly</th>\n",
       "      <th>Size (Mb)</th>\n",
       "      <th>GC%</th>\n",
       "      <th>...</th>\n",
       "      <th>Scaffolds</th>\n",
       "      <th>Genes</th>\n",
       "      <th>Proteins</th>\n",
       "      <th>Release Date</th>\n",
       "      <th>Modify Date</th>\n",
       "      <th>Level</th>\n",
       "      <th>RefSeq FTP</th>\n",
       "      <th>GenBank FTP</th>\n",
       "      <th>species</th>\n",
       "      <th>Assembly_nover</th>\n",
       "    </tr>\n",
       "  </thead>\n",
       "  <tbody>\n",
       "    <tr>\n",
       "      <th>6596</th>\n",
       "      <td>Mycobacterium marinum</td>\n",
       "      <td>DE4576</td>\n",
       "      <td>20835</td>\n",
       "      <td>SAMN07811431</td>\n",
       "      <td>PRJNA414948</td>\n",
       "      <td>Terrabacteria group</td>\n",
       "      <td>Actinobacteria</td>\n",
       "      <td>GCA_003431805.1</td>\n",
       "      <td>6.4167</td>\n",
       "      <td>65.8</td>\n",
       "      <td>...</td>\n",
       "      <td>133.0</td>\n",
       "      <td>5561</td>\n",
       "      <td>5291</td>\n",
       "      <td>2018/08/29</td>\n",
       "      <td>2018/09/02</td>\n",
       "      <td>Scaffold</td>\n",
       "      <td>ftp://ftp.ncbi.nlm.nih.gov/genomes/all/GCF/003...</td>\n",
       "      <td>ftp://ftp.ncbi.nlm.nih.gov/genomes/all/GCA/003...</td>\n",
       "      <td>marinum</td>\n",
       "      <td>GCA_003431805</td>\n",
       "    </tr>\n",
       "    <tr>\n",
       "      <th>6597</th>\n",
       "      <td>Mycobacterium orygis</td>\n",
       "      <td>ASM638503v1</td>\n",
       "      <td>20835</td>\n",
       "      <td>SAMN11890852</td>\n",
       "      <td>PRJNA545406</td>\n",
       "      <td>Terrabacteria group</td>\n",
       "      <td>Actinobacteria</td>\n",
       "      <td>GCA_006385035.1</td>\n",
       "      <td>NaN</td>\n",
       "      <td>NaN</td>\n",
       "      <td>...</td>\n",
       "      <td>NaN</td>\n",
       "      <td>NaN</td>\n",
       "      <td>NaN</td>\n",
       "      <td>NaN</td>\n",
       "      <td>NaN</td>\n",
       "      <td>Scaffold</td>\n",
       "      <td>ftp://ftp.ncbi.nlm.nih.gov/genomes/all/GCF/006...</td>\n",
       "      <td>ftp://ftp.ncbi.nlm.nih.gov/genomes/all/GCA/006...</td>\n",
       "      <td>orygis</td>\n",
       "      <td>GCA_006385035</td>\n",
       "    </tr>\n",
       "    <tr>\n",
       "      <th>6598</th>\n",
       "      <td>Mycobacterium orygis</td>\n",
       "      <td>Morygis1.0</td>\n",
       "      <td>20835</td>\n",
       "      <td>SAMN02470820</td>\n",
       "      <td>PRJNA193095</td>\n",
       "      <td>Terrabacteria group</td>\n",
       "      <td>Actinobacteria</td>\n",
       "      <td>GCA_000353205.1</td>\n",
       "      <td>NaN</td>\n",
       "      <td>NaN</td>\n",
       "      <td>...</td>\n",
       "      <td>NaN</td>\n",
       "      <td>NaN</td>\n",
       "      <td>NaN</td>\n",
       "      <td>NaN</td>\n",
       "      <td>NaN</td>\n",
       "      <td>Scaffold</td>\n",
       "      <td>ftp://ftp.ncbi.nlm.nih.gov/genomes/all/GCF/000...</td>\n",
       "      <td>ftp://ftp.ncbi.nlm.nih.gov/genomes/all/GCA/000...</td>\n",
       "      <td>orygis</td>\n",
       "      <td>GCA_000353205</td>\n",
       "    </tr>\n",
       "    <tr>\n",
       "      <th>6599</th>\n",
       "      <td>Mycobacterium liflandii</td>\n",
       "      <td>128FXT</td>\n",
       "      <td>20835</td>\n",
       "      <td>SAMN02603618</td>\n",
       "      <td>PRJNA20227</td>\n",
       "      <td>Terrabacteria group</td>\n",
       "      <td>Actinobacteria</td>\n",
       "      <td>GCA_000026445.2</td>\n",
       "      <td>NaN</td>\n",
       "      <td>NaN</td>\n",
       "      <td>...</td>\n",
       "      <td>NaN</td>\n",
       "      <td>NaN</td>\n",
       "      <td>NaN</td>\n",
       "      <td>NaN</td>\n",
       "      <td>NaN</td>\n",
       "      <td>Complete Genome</td>\n",
       "      <td>NaN</td>\n",
       "      <td>ftp://ftp.ncbi.nlm.nih.gov/genomes/all/GCA/000...</td>\n",
       "      <td>liflandii</td>\n",
       "      <td>GCA_000026445</td>\n",
       "    </tr>\n",
       "  </tbody>\n",
       "</table>\n",
       "<p>4 rows × 22 columns</p>\n",
       "</div>"
      ],
      "text/plain": [
       "                Organism_Name       Strain CladeID     BioSample   BioProject                Group        SubGroup         Assembly  \\\n",
       "6596    Mycobacterium marinum       DE4576   20835  SAMN07811431  PRJNA414948  Terrabacteria group  Actinobacteria  GCA_003431805.1   \n",
       "6597     Mycobacterium orygis  ASM638503v1   20835  SAMN11890852  PRJNA545406  Terrabacteria group  Actinobacteria  GCA_006385035.1   \n",
       "6598     Mycobacterium orygis   Morygis1.0   20835  SAMN02470820  PRJNA193095  Terrabacteria group  Actinobacteria  GCA_000353205.1   \n",
       "6599  Mycobacterium liflandii       128FXT   20835  SAMN02603618   PRJNA20227  Terrabacteria group  Actinobacteria  GCA_000026445.2   \n",
       "\n",
       "      Size (Mb)   GC%  ... Scaffolds Genes  Proteins Release Date Modify Date            Level  \\\n",
       "6596     6.4167  65.8  ...     133.0  5561      5291   2018/08/29  2018/09/02         Scaffold   \n",
       "6597        NaN   NaN  ...       NaN   NaN       NaN          NaN         NaN         Scaffold   \n",
       "6598        NaN   NaN  ...       NaN   NaN       NaN          NaN         NaN         Scaffold   \n",
       "6599        NaN   NaN  ...       NaN   NaN       NaN          NaN         NaN  Complete Genome   \n",
       "\n",
       "                                             RefSeq FTP                                        GenBank FTP    species Assembly_nover  \n",
       "6596  ftp://ftp.ncbi.nlm.nih.gov/genomes/all/GCF/003...  ftp://ftp.ncbi.nlm.nih.gov/genomes/all/GCA/003...    marinum  GCA_003431805  \n",
       "6597  ftp://ftp.ncbi.nlm.nih.gov/genomes/all/GCF/006...  ftp://ftp.ncbi.nlm.nih.gov/genomes/all/GCA/006...     orygis  GCA_006385035  \n",
       "6598  ftp://ftp.ncbi.nlm.nih.gov/genomes/all/GCF/000...  ftp://ftp.ncbi.nlm.nih.gov/genomes/all/GCA/000...     orygis  GCA_000353205  \n",
       "6599                                                NaN  ftp://ftp.ncbi.nlm.nih.gov/genomes/all/GCA/000...  liflandii  GCA_000026445  \n",
       "\n",
       "[4 rows x 22 columns]"
      ]
     },
     "execution_count": 36,
     "metadata": {},
     "output_type": "execute_result"
    }
   ],
   "source": [
    "#samples = pd.read_csv('genomes_data.csv')\n",
    "assemblies = pd.read_csv('mtb_assemblies.csv')\n",
    "assemblies[-4:]"
   ]
  },
  {
   "cell_type": "markdown",
   "metadata": {},
   "source": [
    "### Filter assemblies to use"
   ]
  },
  {
   "cell_type": "code",
   "execution_count": 58,
   "metadata": {},
   "outputs": [],
   "source": [
    "def sample_assemblies(asm, n=10):\n",
    "    res=[]\n",
    "    species = asm.species.unique()\n",
    "    for s in species:\n",
    "        df=asm[asm.species==s]\n",
    "        if len(df)>n:\n",
    "            df=df.sample(n=n)\n",
    "        res.append(df)\n",
    "    res=pd.concat(res)\n",
    "    return res"
   ]
  },
  {
   "cell_type": "code",
   "execution_count": 61,
   "metadata": {},
   "outputs": [
    {
     "name": "stdout",
     "output_type": "stream",
     "text": [
      "64 6600\n",
      "BCG           8\n",
      "H37Rv         8\n",
      "mtb           8\n",
      "africanum     8\n",
      "bovis         8\n",
      "CDC           7\n",
      "canettii      6\n",
      "pinnipedii    3\n",
      "caprae        3\n",
      "H37Ra         3\n",
      "orygis        2\n",
      "Name: species, dtype: int64\n"
     ]
    }
   ],
   "source": [
    "filtered = assemblies[(assemblies.Level=='Complete Genome') | (~assemblies.species.isin(['mtb']))]\n",
    "omit = ['PRJNA407834','PRJNA287158','PRJNA214551']\n",
    "filtered = filtered[~filtered.BioProject.isin(omit)]\n",
    "\n",
    "filtered = sample_assemblies(filtered, 8)\n",
    "filtered = filtered[~filtered.species.isin(['marinum','ulcerans','liflandii','microti'])]\n",
    "\n",
    "filtered = filtered[~filtered.Assembly_nover.isin(['GCA_000328785','GCA_000328825'])]\n",
    "print (len(filtered),len(assemblies))\n",
    "print (filtered.species.value_counts())\n",
    "#print (filtered.columns)\n",
    "#print (filtered.BioProject.value_counts())"
   ]
  },
  {
   "cell_type": "markdown",
   "metadata": {},
   "source": [
    "### test data fetch"
   ]
  },
  {
   "cell_type": "code",
   "execution_count": 4,
   "metadata": {},
   "outputs": [
    {
     "data": {
      "text/plain": [
       "('assemblies/GCA_000934325.3.fa.gz', <email.message.Message at 0x7f81485b6160>)"
      ]
     },
     "execution_count": 4,
     "metadata": {},
     "output_type": "execute_result"
    }
   ],
   "source": [
    "url = assemblies.loc[0]['GenBank FTP']\n",
    "link = tools.get_url_from_path(url)\n",
    "name = 'GCA_000934325.3'\n",
    "urllib.request.urlretrieve(link, os.path.join('assemblies', name+'.fa.gz'))"
   ]
  },
  {
   "cell_type": "markdown",
   "metadata": {},
   "source": [
    "### make local blast database"
   ]
  },
  {
   "cell_type": "code",
   "execution_count": 33,
   "metadata": {},
   "outputs": [],
   "source": [
    "def make_blast_db(infile, out='test'):\n",
    "    \n",
    "    cmd = 'gunzip -c {i} | makeblastdb -in - -dbtype nucl -out blastdb/{o} -title test'.format(i=infile,o=out)\n",
    "    subprocess.check_output(cmd, shell=True)\n",
    "    return\n",
    "\n",
    "#make_blast_db('assemblies/GCA_000934325.3.fa.gz')"
   ]
  },
  {
   "cell_type": "markdown",
   "metadata": {},
   "source": [
    "### determine sequences to blast using sub sequences within africanum RD900 region"
   ]
  },
  {
   "cell_type": "code",
   "execution_count": 91,
   "metadata": {},
   "outputs": [
    {
     "name": "stdout",
     "output_type": "stream",
     "text": [
      "CGGCGCGGCCTGGATGGGCGGCGGTGTGACGGTGGGCATGGTCGGCGGCTGCGCGGTTACCGCCGCGGTGCC\n"
     ]
    }
   ],
   "source": [
    "rd900seq = SeqIO.read('RD900MAF.fa',format='fasta')\n",
    "pknh1 = rd900seq[783:2663]\n",
    "pknh1.id = 'pknh1'\n",
    "tbd2 = rd900seq[2907:5303]\n",
    "tbd2.id = 'tbd2'\n",
    "pknh2 = rd900seq[5314:6981]\n",
    "pknh2.id='pknh2'\n",
    "pro_pknh1 = rd900seq[1612:1772]\n",
    "pro_pknh1.id = 'pro_pknh1'\n",
    "pro_pknh2 = rd900seq[6081:6153]\n",
    "pro_pknh2.id = 'pro_pknh2'\n",
    "pknh2_sensor = rd900seq[5314:6000]\n",
    "pknh2_sensor.id = 'pknh2_sensor'\n",
    "#print (pknh2_sensor.seq)\n",
    "#pro_bov = SeqRecord(Seq('ATCCACCCTGCCCGGCACCGCGGCGGTAACCGCGCAGCCGCCGACCATGCCCACCGTCACACCGCCGCCCATCCAGGCCGCGCCGA'),id='pknh1-bov')\n",
    "print (pro_pknh2.seq)"
   ]
  },
  {
   "cell_type": "markdown",
   "metadata": {},
   "source": [
    "### loop over assemblies and get results\n",
    "\n",
    "Here we loop over each assembly in the table and fetch the file remotely, make a blast db and "
   ]
  },
  {
   "cell_type": "code",
   "execution_count": null,
   "metadata": {},
   "outputs": [],
   "source": [
    "def blast_assemblies(seqs, df):\n",
    "    \"\"\"blast search a set of assemblies for seqs\"\"\"\n",
    "    result=[]\n",
    "    for i,row in df.iterrows():\n",
    "        acc = row.Assembly\n",
    "        strain = row.Strain\n",
    "        species = row.species\n",
    "        full = row.Organism_Name\n",
    "        print (strain, acc)\n",
    "        url = row['GenBank FTP']\n",
    "        #get file\n",
    "        filename = os.path.join('assemblies', acc+'.fa.gz')\n",
    "        dbname = 'blastdb/%s.nsq' %acc\n",
    "        if not os.path.exists(filename):\n",
    "            link = tools.get_url_from_path(url)            \n",
    "            urllib.request.urlretrieve(link, filename)\n",
    "            #make blast database for this genome\n",
    "            make_blast_db(filename, out=acc)\n",
    "        data={}\n",
    "        for seq in seqs:\n",
    "            #do blast\n",
    "            bl = tools.blast_sequences('blastdb/%s' %acc, seq)\n",
    "            bl['pcov'] = bl.length/len(seq)\n",
    "            #print (bl)\n",
    "            bl = bl[bl.pcov>.90]\n",
    "            if len(bl)>0:\n",
    "                x = bl.iloc[0]                \n",
    "                ident = x.pident\n",
    "            else:\n",
    "                ident = 0\n",
    "            data[seq.id] = ident\n",
    "        data['id'] = row.Assembly_nover\n",
    "        data['strain'] = strain\n",
    "        data['species'] = species\n",
    "        data['name'] = full\n",
    "        result.append(data)\n",
    "\n",
    "    result = pd.DataFrame(result)\n",
    "    return result\n",
    "\n",
    "seqs = [pro_pknh1,pro_pknh2,pknh2_sensor]\n",
    "result = blast_assemblies(seqs, filtered )\n",
    "result.to_csv('rd900_region_hits.csv',index=False)"
   ]
  },
  {
   "cell_type": "code",
   "execution_count": null,
   "metadata": {},
   "outputs": [],
   "source": [
    "result = pd.read_csv('rd900_region_hits.csv')\n",
    "X=result.set_index(['species','strain']).drop(columns=['name','id'])\n",
    "sns.clustermap(X,cmap='gray_r',yticklabels=1,figsize=(5,20))"
   ]
  },
  {
   "cell_type": "markdown",
   "metadata": {},
   "source": [
    "### Species tree with ANIs\n",
    "\n",
    "pyani: `average_nucleotide_identity.py -o ANIm_out -i temp -m ANIm -f` (too slow)\n",
    "\n",
    "fastANI: `fastANI --ql reference.txt --rl query.txt -o fastani.out -t 10`\n",
    "\n",
    "https://github.com/ParBLiSS/FastANI.git"
   ]
  },
  {
   "cell_type": "markdown",
   "metadata": {},
   "source": [
    "### make file lists for FastANI"
   ]
  },
  {
   "cell_type": "code",
   "execution_count": 94,
   "metadata": {},
   "outputs": [
    {
     "name": "stdout",
     "output_type": "stream",
     "text": [
      "65\n"
     ]
    },
    {
     "data": {
      "text/plain": [
       "'reference.txt'"
      ]
     },
     "execution_count": 94,
     "metadata": {},
     "output_type": "execute_result"
    }
   ],
   "source": [
    "names = list(filtered.Assembly_nover)\n",
    "l=[]\n",
    "for f in glob.glob('assemblies/*.fa.gz'):\n",
    "    n=os.path.basename(f).split('.')[0]\n",
    "    if n in names:\n",
    "        l.append(f)\n",
    "print (len(l))\n",
    "with open('query.txt', 'w') as infile:\n",
    "    infile.write('\\n'.join(l))\n",
    "shutil.copyfile('query.txt','reference.txt')"
   ]
  },
  {
   "cell_type": "markdown",
   "metadata": {},
   "source": [
    "## run fastANI"
   ]
  },
  {
   "cell_type": "code",
   "execution_count": 64,
   "metadata": {},
   "outputs": [
    {
     "data": {
      "text/plain": [
       "b''"
      ]
     },
     "execution_count": 64,
     "metadata": {},
     "output_type": "execute_result"
    }
   ],
   "source": [
    "cmd = 'fastANI --ql reference.txt --rl query.txt -o fastani.out -t 10'\n",
    "subprocess.check_output(cmd,shell=True)"
   ]
  },
  {
   "cell_type": "code",
   "execution_count": 68,
   "metadata": {},
   "outputs": [],
   "source": [
    "def get_fastani():\n",
    "    import re\n",
    "    df = pd.read_csv('fastani.out',sep='\\t',names=['query','ref','ident','x','y'])\n",
    "    df['query'] = df['query'].apply(lambda x: re.split(r\"[\\./]+\",x)[1])\n",
    "    df['ref'] = df['ref'].apply(lambda x: re.split(r\"[\\./]+\",x)[1])\n",
    "    x = pd.pivot_table(df,index='query',values='ident',columns=['ref'])\n",
    "    return x"
   ]
  },
  {
   "cell_type": "code",
   "execution_count": 67,
   "metadata": {},
   "outputs": [],
   "source": [
    "anim = get_fastani()\n",
    "df = filtered.set_index('Assembly_nover').species\n",
    "mapping = df.to_dict()\n",
    "mapping\n",
    "#anim.index = anim.index.map(mapping)\n",
    "anim['species'] = anim.index.map(mapping)\n",
    "anim.to_csv('ani_matrix.csv')\n",
    "#anim.species\n"
   ]
  },
  {
   "cell_type": "code",
   "execution_count": 66,
   "metadata": {},
   "outputs": [
    {
     "data": {
      "image/png": "[encoded data removed]",
      "text/plain": [
       "<Figure size 864x864 with 4 Axes>"
      ]
     },
     "metadata": {
      "needs_background": "light"
     },
     "output_type": "display_data"
    }
   ],
   "source": [
    "cl=sns.clustermap(anim,xticklabels=1,yticklabels=1,cmap='coolwarm',figsize=(12,12))\n",
    "cl.savefig('anim_clustermap.png',dpi=150)"
   ]
  },
  {
   "cell_type": "code",
   "execution_count": null,
   "metadata": {},
   "outputs": [],
   "source": []
  }
 ],
 "metadata": {
  "kernelspec": {
   "display_name": "Python 3",
   "language": "python",
   "name": "python3"
  },
  "language_info": {
   "codemirror_mode": {
    "name": "ipython",
    "version": 3
   },
   "file_extension": ".py",
   "mimetype": "text/x-python",
   "name": "python",
   "nbconvert_exporter": "python",
   "pygments_lexer": "ipython3",
   "version": "3.7.3"
  }
 },
 "nbformat": 4,
 "nbformat_minor": 4
}
