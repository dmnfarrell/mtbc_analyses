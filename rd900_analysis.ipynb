{
 "cells": [
  {
   "cell_type": "markdown",
   "metadata": {},
   "source": [
    "## RD900 region - identification of duplication events in MTBC\n",
    "\n",
    "**Objective:**\n",
    "\n",
    "Identify duplication events in RD900 MTBC using available genome assemblies.\n",
    "\n",
    "**Method:**\n",
    "\n",
    "1. identify assemblies to use including sub-sampling MTB an Mbovis genomes by choosing best qualities\n",
    "2. decide which sub sequences we want to use to detect presence of a gene in contigs\n",
    "3. for each assembly:\n",
    "    * make a blast database\n",
    "    * blast sub-sequence(s) to it\n",
    "    * store result\n",
    "4. make a matrix of presence absence for each genome\n",
    "5. make a species tree and use the matrix to determine parsimony\n",
    "\n",
    "**Links:**\n",
    "\n",
    "* https://github.com/dmnfarrell/rd900\n"
   ]
  },
  {
   "cell_type": "markdown",
   "metadata": {},
   "source": [
    "<img src=\"img/pknh_orthologs.png\" width=500></img>"
   ]
  },
  {
   "cell_type": "code",
   "execution_count": 1,
   "metadata": {},
   "outputs": [],
   "source": [
    "import os, glob, subprocess\n",
    "import urllib\n",
    "from importlib import reload\n",
    "from Bio import SeqIO\n",
    "from Bio.SeqRecord import SeqRecord\n",
    "from Bio.SeqFeature import SeqFeature, FeatureLocation\n",
    "from BCBio import GFF\n",
    "import numpy as np\n",
    "import pandas as pd\n",
    "import pylab as plt\n",
    "import seaborn as sns\n",
    "import tools\n",
    "pd.set_option(\"display.width\",140)"
   ]
  },
  {
   "cell_type": "code",
   "execution_count": 2,
   "metadata": {},
   "outputs": [
    {
     "data": {
      "text/html": [
       "<div>\n",
       "<style scoped>\n",
       "    .dataframe tbody tr th:only-of-type {\n",
       "        vertical-align: middle;\n",
       "    }\n",
       "\n",
       "    .dataframe tbody tr th {\n",
       "        vertical-align: top;\n",
       "    }\n",
       "\n",
       "    .dataframe thead th {\n",
       "        text-align: right;\n",
       "    }\n",
       "</style>\n",
       "<table border=\"1\" class=\"dataframe\">\n",
       "  <thead>\n",
       "    <tr style=\"text-align: right;\">\n",
       "      <th></th>\n",
       "      <th>Organism_Name</th>\n",
       "      <th>Strain</th>\n",
       "      <th>CladeID</th>\n",
       "      <th>BioSample</th>\n",
       "      <th>BioProject</th>\n",
       "      <th>Group</th>\n",
       "      <th>SubGroup</th>\n",
       "      <th>Assembly</th>\n",
       "      <th>Size (Mb)</th>\n",
       "      <th>GC%</th>\n",
       "      <th>...</th>\n",
       "      <th>WGS</th>\n",
       "      <th>Scaffolds</th>\n",
       "      <th>Genes</th>\n",
       "      <th>Proteins</th>\n",
       "      <th>Release Date</th>\n",
       "      <th>Modify Date</th>\n",
       "      <th>Level</th>\n",
       "      <th>RefSeq FTP</th>\n",
       "      <th>GenBank FTP</th>\n",
       "      <th>species</th>\n",
       "    </tr>\n",
       "  </thead>\n",
       "  <tbody>\n",
       "    <tr>\n",
       "      <td>6595</td>\n",
       "      <td>Mycobacterium marinum</td>\n",
       "      <td>DL240490</td>\n",
       "      <td>20835</td>\n",
       "      <td>SAMN07811432</td>\n",
       "      <td>PRJNA414948</td>\n",
       "      <td>Terrabacteria group</td>\n",
       "      <td>Actinobacteria</td>\n",
       "      <td>GCA_003431775.1</td>\n",
       "      <td>5.78055</td>\n",
       "      <td>65.8</td>\n",
       "      <td>...</td>\n",
       "      <td>PEDJ01</td>\n",
       "      <td>289.0</td>\n",
       "      <td>5234</td>\n",
       "      <td>4484</td>\n",
       "      <td>2018/08/29</td>\n",
       "      <td>2018/09/03</td>\n",
       "      <td>Scaffold</td>\n",
       "      <td>ftp://ftp.ncbi.nlm.nih.gov/genomes/all/GCF/003...</td>\n",
       "      <td>ftp://ftp.ncbi.nlm.nih.gov/genomes/all/GCA/003...</td>\n",
       "      <td>marinum</td>\n",
       "    </tr>\n",
       "    <tr>\n",
       "      <td>6596</td>\n",
       "      <td>Mycobacterium marinum</td>\n",
       "      <td>DE4576</td>\n",
       "      <td>20835</td>\n",
       "      <td>SAMN07811431</td>\n",
       "      <td>PRJNA414948</td>\n",
       "      <td>Terrabacteria group</td>\n",
       "      <td>Actinobacteria</td>\n",
       "      <td>GCA_003431805.1</td>\n",
       "      <td>6.41670</td>\n",
       "      <td>65.8</td>\n",
       "      <td>...</td>\n",
       "      <td>PEDK01</td>\n",
       "      <td>133.0</td>\n",
       "      <td>5561</td>\n",
       "      <td>5291</td>\n",
       "      <td>2018/08/29</td>\n",
       "      <td>2018/09/02</td>\n",
       "      <td>Scaffold</td>\n",
       "      <td>ftp://ftp.ncbi.nlm.nih.gov/genomes/all/GCF/003...</td>\n",
       "      <td>ftp://ftp.ncbi.nlm.nih.gov/genomes/all/GCA/003...</td>\n",
       "      <td>marinum</td>\n",
       "    </tr>\n",
       "    <tr>\n",
       "      <td>6597</td>\n",
       "      <td>Mycobacterium orygis</td>\n",
       "      <td>ASM638503v1</td>\n",
       "      <td>20835</td>\n",
       "      <td>SAMN11890852</td>\n",
       "      <td>PRJNA545406</td>\n",
       "      <td>Terrabacteria group</td>\n",
       "      <td>Actinobacteria</td>\n",
       "      <td>GCA_006385035.1</td>\n",
       "      <td>NaN</td>\n",
       "      <td>NaN</td>\n",
       "      <td>...</td>\n",
       "      <td>NaN</td>\n",
       "      <td>NaN</td>\n",
       "      <td>NaN</td>\n",
       "      <td>NaN</td>\n",
       "      <td>NaN</td>\n",
       "      <td>NaN</td>\n",
       "      <td>Scaffold</td>\n",
       "      <td>ftp://ftp.ncbi.nlm.nih.gov/genomes/all/GCF/006...</td>\n",
       "      <td>ftp://ftp.ncbi.nlm.nih.gov/genomes/all/GCA/006...</td>\n",
       "      <td>orygis</td>\n",
       "    </tr>\n",
       "    <tr>\n",
       "      <td>6598</td>\n",
       "      <td>Mycobacterium orygis</td>\n",
       "      <td>Morygis1.0</td>\n",
       "      <td>20835</td>\n",
       "      <td>SAMN02470820</td>\n",
       "      <td>PRJNA193095</td>\n",
       "      <td>Terrabacteria group</td>\n",
       "      <td>Actinobacteria</td>\n",
       "      <td>GCA_000353205.1</td>\n",
       "      <td>NaN</td>\n",
       "      <td>NaN</td>\n",
       "      <td>...</td>\n",
       "      <td>NaN</td>\n",
       "      <td>NaN</td>\n",
       "      <td>NaN</td>\n",
       "      <td>NaN</td>\n",
       "      <td>NaN</td>\n",
       "      <td>NaN</td>\n",
       "      <td>Scaffold</td>\n",
       "      <td>ftp://ftp.ncbi.nlm.nih.gov/genomes/all/GCF/000...</td>\n",
       "      <td>ftp://ftp.ncbi.nlm.nih.gov/genomes/all/GCA/000...</td>\n",
       "      <td>orygis</td>\n",
       "    </tr>\n",
       "  </tbody>\n",
       "</table>\n",
       "<p>4 rows × 21 columns</p>\n",
       "</div>"
      ],
      "text/plain": [
       "              Organism_Name       Strain CladeID     BioSample   BioProject                Group        SubGroup         Assembly  \\\n",
       "6595  Mycobacterium marinum     DL240490   20835  SAMN07811432  PRJNA414948  Terrabacteria group  Actinobacteria  GCA_003431775.1   \n",
       "6596  Mycobacterium marinum       DE4576   20835  SAMN07811431  PRJNA414948  Terrabacteria group  Actinobacteria  GCA_003431805.1   \n",
       "6597   Mycobacterium orygis  ASM638503v1   20835  SAMN11890852  PRJNA545406  Terrabacteria group  Actinobacteria  GCA_006385035.1   \n",
       "6598   Mycobacterium orygis   Morygis1.0   20835  SAMN02470820  PRJNA193095  Terrabacteria group  Actinobacteria  GCA_000353205.1   \n",
       "\n",
       "      Size (Mb)   GC%  ...     WGS Scaffolds  Genes Proteins Release Date Modify Date     Level  \\\n",
       "6595    5.78055  65.8  ...  PEDJ01     289.0   5234     4484   2018/08/29  2018/09/03  Scaffold   \n",
       "6596    6.41670  65.8  ...  PEDK01     133.0   5561     5291   2018/08/29  2018/09/02  Scaffold   \n",
       "6597        NaN   NaN  ...     NaN       NaN    NaN      NaN          NaN         NaN  Scaffold   \n",
       "6598        NaN   NaN  ...     NaN       NaN    NaN      NaN          NaN         NaN  Scaffold   \n",
       "\n",
       "                                             RefSeq FTP                                        GenBank FTP  species  \n",
       "6595  ftp://ftp.ncbi.nlm.nih.gov/genomes/all/GCF/003...  ftp://ftp.ncbi.nlm.nih.gov/genomes/all/GCA/003...  marinum  \n",
       "6596  ftp://ftp.ncbi.nlm.nih.gov/genomes/all/GCF/003...  ftp://ftp.ncbi.nlm.nih.gov/genomes/all/GCA/003...  marinum  \n",
       "6597  ftp://ftp.ncbi.nlm.nih.gov/genomes/all/GCF/006...  ftp://ftp.ncbi.nlm.nih.gov/genomes/all/GCA/006...   orygis  \n",
       "6598  ftp://ftp.ncbi.nlm.nih.gov/genomes/all/GCF/000...  ftp://ftp.ncbi.nlm.nih.gov/genomes/all/GCA/000...   orygis  \n",
       "\n",
       "[4 rows x 21 columns]"
      ]
     },
     "execution_count": 2,
     "metadata": {},
     "output_type": "execute_result"
    }
   ],
   "source": [
    "#samples = pd.read_csv('genomes_data.csv')\n",
    "assemblies = pd.read_csv('mtb_assemblies.csv')\n",
    "assemblies[-4:]"
   ]
  },
  {
   "cell_type": "markdown",
   "metadata": {},
   "source": [
    "### Filter assemblies to use"
   ]
  },
  {
   "cell_type": "code",
   "execution_count": 14,
   "metadata": {},
   "outputs": [
    {
     "name": "stdout",
     "output_type": "stream",
     "text": [
      "254 6599\n",
      "mtb           87\n",
      "BCG           37\n",
      "africanum     31\n",
      "bovis         28\n",
      "marinum       25\n",
      "H37Rv          9\n",
      "canettii       9\n",
      "ulcerans       7\n",
      "CDC            7\n",
      "microti        3\n",
      "pinnipedii     3\n",
      "H37Ra          3\n",
      "caprae         3\n",
      "orygis         2\n",
      "Name: species, dtype: int64\n"
     ]
    }
   ],
   "source": [
    "filtered=assemblies[(assemblies.Level=='Complete Genome') | (~assemblies.species.isin(['mtb']))]\n",
    "omit = ['PRJNA407834','PRJNA287158','PRJNA214551']\n",
    "filtered = filtered[~filtered.BioProject.isin(omit)]\n",
    "#remove additional rows for testing\n",
    "#filtered = filtered[(filtered.species!='mtb')]\n",
    "print (len(filtered),len(assemblies))\n",
    "print (filtered.species.value_counts())\n",
    "#print (filtered.columns)\n",
    "#print (filtered.BioProject.value_counts())"
   ]
  },
  {
   "cell_type": "markdown",
   "metadata": {},
   "source": [
    "### test data fetch"
   ]
  },
  {
   "cell_type": "code",
   "execution_count": 4,
   "metadata": {},
   "outputs": [
    {
     "data": {
      "text/plain": [
       "('assemblies/GCA_000934325.3.fa.gz', <email.message.Message at 0x7f81485b6160>)"
      ]
     },
     "execution_count": 4,
     "metadata": {},
     "output_type": "execute_result"
    }
   ],
   "source": [
    "url = assemblies.loc[0]['GenBank FTP']\n",
    "link = tools.get_url_from_path(url)\n",
    "name = 'GCA_000934325.3'\n",
    "urllib.request.urlretrieve(link, os.path.join('assemblies', name+'.fa.gz'))"
   ]
  },
  {
   "cell_type": "markdown",
   "metadata": {},
   "source": [
    "### make local blast database"
   ]
  },
  {
   "cell_type": "code",
   "execution_count": 15,
   "metadata": {},
   "outputs": [],
   "source": [
    "def make_blast_db(infile, out='test'):\n",
    "    \n",
    "    cmd = 'gunzip -c {i} | makeblastdb -in - -dbtype nucl -out blastdb/{o} -title test'.format(i=infile,o=out)\n",
    "    subprocess.check_output(cmd, shell=True)\n",
    "    return\n",
    "\n",
    "#make_blast_db('assemblies/GCA_000934325.3.fa.gz')"
   ]
  },
  {
   "cell_type": "markdown",
   "metadata": {},
   "source": [
    "### determine sequences to blast using sub sequences within africanum RD900 region"
   ]
  },
  {
   "cell_type": "code",
   "execution_count": 17,
   "metadata": {},
   "outputs": [
    {
     "name": "stdout",
     "output_type": "stream",
     "text": [
      "TACCCGTACTTGGCCCACCAGTTGTGCAGATCCTCAATGGTCGCGGGATCCCCGAAGACGTCGCTGAGCGTTAGCTTGGCCTCGTTGCTCCAGATCACGTTCGGGCGATTCTTATAGGTGCCGCACGCGATCATGCCTGCGGTCACGTCTGGGGTCTGGTTGTAATGCCAGCCATCCGGTGATGGTCCTTCACCGGGACAGTTCATCAGCTCCACGGCGGCGATATCGTCGTTGAAGGCCTGTTTCAGCTTGTCGGGATTGGCGAACAATCCATAGATGGCGCGACTTGGCCCACCCTGGTTGGTGTTTTGCCCGCAGTCGACCATCGCCACGGCGTTCACCCATATGCTGTTCGGCTTCGGCGTGGTCGGTTTACAGGTGCCGGTCGGATAGCCCGACGGCAACATGCTGAGCAGCCTGGTCTGCGGGTCGCTGGCCGGTGCTGTGGTCGGCGTTGTGGTCGCGGGTAGCGAGGTCGTTGCCGTGGTGGTGGGGGTGCCTGGGGAGGTCGCGATGTTCCGTTTTGGGTTGTCGTCCGGTCGGTTGGCGATCCAGATGCCGATGGCGCCCAACACGAGGACGAGCACGACGGCGGCGGCGACGGCCACAAAGGGCCACGGGTTCGTTTTGCGTGGGGTCTGGGCCCAGGGGCTGGGGCCGCCGGACGGCGGTGCGCCCCAGCCGCC\n"
     ]
    }
   ],
   "source": [
    "rd900seq = SeqIO.read('RD900MAF.fa',format='fasta')\n",
    "pknh1 = rd900seq[783:2663]\n",
    "pknh1.id = 'pknh1'\n",
    "tbd2 = rd900seq[2907:5303]\n",
    "tbd2.id = 'tbd2'\n",
    "pknh2 = rd900seq[5314:6981]\n",
    "pknh2.id='pknh2'\n",
    "pro1 = rd900seq[1612:1772]\n",
    "pro1.id = 'pknh1-proregion'\n",
    "pknh2_sensor = rd900seq[5314:6000]\n",
    "pknh2_sensor.id = 'pknh2_sensor'\n",
    "print (pknh2_sensor.seq)"
   ]
  },
  {
   "cell_type": "markdown",
   "metadata": {},
   "source": [
    "### loop over assemblies and get results\n",
    "\n",
    "Here we loop over each assembly in the table and fetch the file remotely, make a blast db and "
   ]
  },
  {
   "cell_type": "code",
   "execution_count": null,
   "metadata": {},
   "outputs": [],
   "source": [
    "def run(seqs):\n",
    "    result=[]\n",
    "    for i,row in filtered.iterrows():\n",
    "        acc = row.Assembly\n",
    "        strain = row.Strain\n",
    "        species = row.species\n",
    "        full = row.Organism_Name\n",
    "        print (strain, acc)\n",
    "        url = row['GenBank FTP']\n",
    "        #get file\n",
    "        filename = os.path.join('assemblies', acc+'.fa.gz')\n",
    "        dbname = 'blastdb/%s.nsq' %acc\n",
    "        if not os.path.exists(filename):\n",
    "            link = tools.get_url_from_path(url)            \n",
    "            urllib.request.urlretrieve(link, filename)\n",
    "            #make blast database for this genome\n",
    "            make_blast_db(filename, out=acc)\n",
    "        data={}\n",
    "        for seq in seqs:\n",
    "            #do blast\n",
    "            bl = tools.blast_sequences('blastdb/%s' %acc, seq)\n",
    "            bl['pcov'] = bl.length/len(seq)\n",
    "            #print (bl)\n",
    "            bl = bl[bl.pcov>.50]\n",
    "            if len(bl)>0:\n",
    "                x = bl.iloc[0]                \n",
    "                ident = x.pident\n",
    "            else:\n",
    "                ident = 0\n",
    "            data[seq.id] = ident\n",
    "        data['id'] = acc\n",
    "        data['strain'] = strain\n",
    "        data['species'] = species\n",
    "        data['name'] = full\n",
    "        result.append(data)\n",
    "\n",
    "    result = pd.DataFrame(result)\n",
    "    return result \n",
    "\n",
    "seqs = [pknh1,tbd2,pro1,pknh2_sensor]\n",
    "result = run(seqs)\n",
    "result.to_csv('rd900_region_hits.csv',index=False)"
   ]
  },
  {
   "cell_type": "code",
   "execution_count": null,
   "metadata": {},
   "outputs": [],
   "source": [
    "result = pd.read_csv('rd900_region_hits.csv')\n",
    "X=result.set_index(['species','strain']).drop(columns=['name','id'])\n",
    "sns.clustermap(X,cmap='gray_r',yticklabels=1,figsize=(5,20))"
   ]
  },
  {
   "cell_type": "code",
   "execution_count": 79,
   "metadata": {},
   "outputs": [],
   "source": [
    "def check_folder():\n",
    "    names = filtered.Assembly\n",
    "    for f in glob.glob('assemblies/*.fa.gz'):\n",
    "        l = os.path.basename(f).split('.')[0]\n",
    "        if l not in names:\n",
    "            #os.remove(f)\n",
    "            print (f)\n",
    "    return\n",
    "\n",
    "#check_folder()"
   ]
  },
  {
   "cell_type": "markdown",
   "metadata": {},
   "source": [
    "### Species tree with ANIs\n",
    "\n",
    "command is `average_nucleotide_identity.py -o ANIm_out -i assemblies -m ANIm -f`"
   ]
  },
  {
   "cell_type": "code",
   "execution_count": 83,
   "metadata": {},
   "outputs": [],
   "source": [
    "anim = pd.read_csv('ANIm_out/ANIm_percentage_identity.tab',sep='\\t',index_col=0)"
   ]
  },
  {
   "cell_type": "code",
   "execution_count": 69,
   "metadata": {},
   "outputs": [],
   "source": [
    "df = filtered[:50].set_index('Assembly').species\n",
    "mapping = df.to_dict()\n",
    "#labels = df['Assembly'].map(mapping)\n",
    "anim.index = anim.index.map(mapping)\n",
    "anim.to_csv('anim_matrix.csv')\n",
    "#anim"
   ]
  },
  {
   "cell_type": "code",
   "execution_count": null,
   "metadata": {},
   "outputs": [],
   "source": [
    "sns.clustermap(anim,xticklabels=1,cmap='coolwarm',figsize=(10,10))"
   ]
  },
  {
   "cell_type": "markdown",
   "metadata": {},
   "source": [
    "### Identify lineages using RD regions"
   ]
  },
  {
   "cell_type": "code",
   "execution_count": null,
   "metadata": {},
   "outputs": [],
   "source": []
  }
 ],
 "metadata": {
  "kernelspec": {
   "display_name": "Python 3",
   "language": "python",
   "name": "python3"
  },
  "language_info": {
   "codemirror_mode": {
    "name": "ipython",
    "version": 3
   },
   "file_extension": ".py",
   "mimetype": "text/x-python",
   "name": "python",
   "nbconvert_exporter": "python",
   "pygments_lexer": "ipython3",
   "version": "3.6.8"
  }
 },
 "nbformat": 4,
 "nbformat_minor": 4
}
