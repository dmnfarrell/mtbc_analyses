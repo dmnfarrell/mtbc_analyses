{
 "cells": [
  {
   "cell_type": "markdown",
   "id": "d112970c-5287-41a8-8a0f-837599ecdcad",
   "metadata": {},
   "source": [
    "# M.bovis deletions\n",
    "\n",
    "Find deletions in a set of M.bovis isolates aligned to Mtb genome."
   ]
  },
  {
   "cell_type": "code",
   "execution_count": 1,
   "id": "7a1d13fa-e610-492f-9a9d-3894b4979329",
   "metadata": {},
   "outputs": [],
   "source": [
    "import sys,os,io,shutil,subprocess\n",
    "import glob\n",
    "from importlib import reload\n",
    "import numpy as np\n",
    "import pandas as pd\n",
    "pd.set_option('display.width', 200)\n",
    "import pylab as plt\n",
    "import matplotlib as mpl\n",
    "from Bio import SeqIO\n",
    "import seaborn as sns\n",
    "sys.path.append('pathogenie')\n",
    "from snipgenie import tools, aligners, app, trees, plotting, rdiff\n",
    "import toytree, toyplot"
   ]
  },
  {
   "cell_type": "code",
   "execution_count": null,
   "id": "7aa8112b-e821-4aa8-8bed-aa053ebd4c1a",
   "metadata": {},
   "outputs": [],
   "source": [
    "reload(app)\n",
    "args = {'threads':12,'outdir': '/storage/btbgenie/deletions_analysis', 'labelsep':'_',\n",
    "        'input':['/storage/btbgenie/mbovis_ireland/Wicklow/',\n",
    "                 '/storage/btbgenie/mbovis_ireland/CVRL/'],\n",
    "         'species': 'MTB-H37Rv', \n",
    "         'overwrite':False,\n",
    "         'custom_filters': True,\n",
    "         'buildtree':True}\n",
    "W = app.WorkFlow(**args)\n",
    "st = W.setup()\n",
    "W.run()"
   ]
  },
  {
   "cell_type": "code",
   "execution_count": 30,
   "id": "4e68e414-44ac-46fc-a725-b67fdb7a431b",
   "metadata": {},
   "outputs": [],
   "source": [
    "meta=pd.read_csv('/storage/btbgenie/all_ireland_results/metadata.csv')"
   ]
  },
  {
   "cell_type": "code",
   "execution_count": 35,
   "id": "d18579f6-4df8-46a5-9190-7c3b383aa638",
   "metadata": {},
   "outputs": [],
   "source": [
    "samples=pd.read_csv('/storage/btbgenie/deletions_analysis/samples.csv')\n",
    "#samples=samples.merge(meta,on='sample',how='left')"
   ]
  },
  {
   "cell_type": "code",
   "execution_count": 7,
   "id": "8d286d4c-055a-469b-ab39-b58d992c704a",
   "metadata": {},
   "outputs": [],
   "source": [
    "#spo = tools.get_spoligotypes(samples)\n",
    "#spo.to_csv('spoligotypes.csv')"
   ]
  },
  {
   "cell_type": "code",
   "execution_count": 26,
   "id": "885f41fa-804b-49c9-acd4-2727cb652ede",
   "metadata": {},
   "outputs": [],
   "source": [
    "rd = pd.read_csv('/home/farrell/gitprojects/snipgenie/snipgenie/data/RD.csv')"
   ]
  },
  {
   "cell_type": "markdown",
   "id": "6fd29df8-b1e5-4ade-8a09-ed41403e8333",
   "metadata": {},
   "source": [
    "## get deletions for all samples"
   ]
  },
  {
   "cell_type": "code",
   "execution_count": null,
   "id": "b0f494ec-3222-46aa-b7c5-6eb67304c918",
   "metadata": {},
   "outputs": [],
   "source": [
    "reload(rdiff)\n",
    "s = samples\n",
    "x = rdiff.get_deletions(s, app.mtb_genome, app.mtb_gb, n_cores=12)\n",
    "x.to_csv('deletion_regions.csv',index=False)"
   ]
  },
  {
   "cell_type": "code",
   "execution_count": 121,
   "id": "41c33fe9-5a63-4ecf-8445-fe5b72b438ab",
   "metadata": {},
   "outputs": [
    {
     "data": {
      "text/html": [
       "<div>\n",
       "<style scoped>\n",
       "    .dataframe tbody tr th:only-of-type {\n",
       "        vertical-align: middle;\n",
       "    }\n",
       "\n",
       "    .dataframe tbody tr th {\n",
       "        vertical-align: top;\n",
       "    }\n",
       "\n",
       "    .dataframe thead th {\n",
       "        text-align: right;\n",
       "    }\n",
       "</style>\n",
       "<table border=\"1\" class=\"dataframe\">\n",
       "  <thead>\n",
       "    <tr style=\"text-align: right;\">\n",
       "      <th></th>\n",
       "      <th>start</th>\n",
       "      <th>end</th>\n",
       "      <th>length</th>\n",
       "      <th>name</th>\n",
       "      <th>group</th>\n",
       "      <th>genes</th>\n",
       "    </tr>\n",
       "  </thead>\n",
       "  <tbody>\n",
       "    <tr>\n",
       "      <th>115</th>\n",
       "      <td>1696016</td>\n",
       "      <td>1708749</td>\n",
       "      <td>12733</td>\n",
       "      <td>1034</td>\n",
       "      <td>1696016</td>\n",
       "      <td>Rv1507c-Rv1516c</td>\n",
       "    </tr>\n",
       "    <tr>\n",
       "      <th>68</th>\n",
       "      <td>1696017</td>\n",
       "      <td>1708749</td>\n",
       "      <td>12732</td>\n",
       "      <td>13-11594</td>\n",
       "      <td>1696016</td>\n",
       "      <td>Rv1507c-Rv1516c</td>\n",
       "    </tr>\n",
       "    <tr>\n",
       "      <th>48</th>\n",
       "      <td>1696017</td>\n",
       "      <td>1708749</td>\n",
       "      <td>12732</td>\n",
       "      <td>14-MBovis</td>\n",
       "      <td>1696016</td>\n",
       "      <td>Rv1507c-Rv1516c</td>\n",
       "    </tr>\n",
       "    <tr>\n",
       "      <th>71</th>\n",
       "      <td>1696017</td>\n",
       "      <td>1708747</td>\n",
       "      <td>12730</td>\n",
       "      <td>15-11643</td>\n",
       "      <td>1696016</td>\n",
       "      <td>Rv1507c-Rv1516c</td>\n",
       "    </tr>\n",
       "    <tr>\n",
       "      <th>63</th>\n",
       "      <td>1696017</td>\n",
       "      <td>1708749</td>\n",
       "      <td>12732</td>\n",
       "      <td>17-11662</td>\n",
       "      <td>1696016</td>\n",
       "      <td>Rv1507c-Rv1516c</td>\n",
       "    </tr>\n",
       "    <tr>\n",
       "      <th>...</th>\n",
       "      <td>...</td>\n",
       "      <td>...</td>\n",
       "      <td>...</td>\n",
       "      <td>...</td>\n",
       "      <td>...</td>\n",
       "      <td>...</td>\n",
       "    </tr>\n",
       "    <tr>\n",
       "      <th>139</th>\n",
       "      <td>2630074</td>\n",
       "      <td>2630138</td>\n",
       "      <td>64</td>\n",
       "      <td>TB20-009217</td>\n",
       "      <td>2630268</td>\n",
       "      <td>plcB</td>\n",
       "    </tr>\n",
       "    <tr>\n",
       "      <th>128</th>\n",
       "      <td>2630268</td>\n",
       "      <td>2630673</td>\n",
       "      <td>405</td>\n",
       "      <td>TB21-000449</td>\n",
       "      <td>2630268</td>\n",
       "      <td></td>\n",
       "    </tr>\n",
       "    <tr>\n",
       "      <th>123</th>\n",
       "      <td>2630074</td>\n",
       "      <td>2630138</td>\n",
       "      <td>64</td>\n",
       "      <td>TB21-000449</td>\n",
       "      <td>2630268</td>\n",
       "      <td>plcB</td>\n",
       "    </tr>\n",
       "    <tr>\n",
       "      <th>126</th>\n",
       "      <td>2630247</td>\n",
       "      <td>2630253</td>\n",
       "      <td>6</td>\n",
       "      <td>TB21-000449</td>\n",
       "      <td>2630268</td>\n",
       "      <td>plcB</td>\n",
       "    </tr>\n",
       "    <tr>\n",
       "      <th>101</th>\n",
       "      <td>2331775</td>\n",
       "      <td>2332102</td>\n",
       "      <td>327</td>\n",
       "      <td>TB21-000449</td>\n",
       "      <td>2331775</td>\n",
       "      <td>Rv2075c</td>\n",
       "    </tr>\n",
       "  </tbody>\n",
       "</table>\n",
       "<p>66368 rows × 6 columns</p>\n",
       "</div>"
      ],
      "text/plain": [
       "       start      end  length         name    group            genes\n",
       "115  1696016  1708749   12733         1034  1696016  Rv1507c-Rv1516c\n",
       "68   1696017  1708749   12732     13-11594  1696016  Rv1507c-Rv1516c\n",
       "48   1696017  1708749   12732    14-MBovis  1696016  Rv1507c-Rv1516c\n",
       "71   1696017  1708747   12730     15-11643  1696016  Rv1507c-Rv1516c\n",
       "63   1696017  1708749   12732     17-11662  1696016  Rv1507c-Rv1516c\n",
       "..       ...      ...     ...          ...      ...              ...\n",
       "139  2630074  2630138      64  TB20-009217  2630268             plcB\n",
       "128  2630268  2630673     405  TB21-000449  2630268                 \n",
       "123  2630074  2630138      64  TB21-000449  2630268             plcB\n",
       "126  2630247  2630253       6  TB21-000449  2630268             plcB\n",
       "101  2331775  2332102     327  TB21-000449  2331775          Rv2075c\n",
       "\n",
       "[66368 rows x 6 columns]"
      ]
     },
     "execution_count": 121,
     "metadata": {},
     "output_type": "execute_result"
    }
   ],
   "source": [
    "x"
   ]
  },
  {
   "cell_type": "code",
   "execution_count": 122,
   "id": "d41cec69-5ea7-4c8a-a1f3-850efa3cbec6",
   "metadata": {},
   "outputs": [
    {
     "name": "stdout",
     "output_type": "stream",
     "text": [
      "66368\n",
      "19521\n"
     ]
    }
   ],
   "source": [
    "x = pd.read_csv('deletion_regions.csv')\n",
    "x = x.merge(meta,left_on='name',right_on='sample',how='left')\n",
    "regions = rdiff.filter_regions(x, 'mask.bed')"
   ]
  },
  {
   "cell_type": "code",
   "execution_count": null,
   "id": "290a684f-c2d7-44e2-b5f4-25660c25c360",
   "metadata": {},
   "outputs": [],
   "source": [
    "#col_colors,colormap = plotting.get_color_mapping(regions,'county1',cmap='Paired',seed=18)"
   ]
  },
  {
   "cell_type": "code",
   "execution_count": 129,
   "id": "4e895fb8-9f03-41ce-98e8-d7d4b63c3bb8",
   "metadata": {
    "tags": []
   },
   "outputs": [
    {
     "data": {
      "text/plain": [
       "<seaborn.matrix.ClusterGrid at 0x7f083522cd90>"
      ]
     },
     "execution_count": 129,
     "metadata": {},
     "output_type": "execute_result"
    },
    {
     "data": {
      "image/png": "[encoded data removed]",
      "text/plain": [
       "<Figure size 1440x720 with 4 Axes>"
      ]
     },
     "metadata": {
      "needs_background": "light"
     },
     "output_type": "display_data"
    }
   ],
   "source": [
    "res=regions[regions.length>500]\n",
    "X=pd.pivot_table(res,index=['group','genes'],columns='name',values='length').fillna(0)\n",
    "X=X.clip(0,1)\n",
    "X=X[X.sum(1)>3]\n",
    "sns.clustermap(X,cmap='Blues',row_cluster=False,xticklabels=False,yticklabels=True,\n",
    "               lw=1,linecolor='.8',figsize=(20,10))"
   ]
  },
  {
   "cell_type": "code",
   "execution_count": null,
   "id": "d7018fd1-2764-4703-8e32-0f9e3675c60f",
   "metadata": {},
   "outputs": [],
   "source": [
    "reload(rdiff)\n",
    "s=1778000;e=s+12000\n",
    "s=2970000;e=s+12000\n",
    "rdiff.show_coverage(samples[35:75],'NC_000962.3',s,e,app.mtb_genome,app.mtb_gb, minq=0,\n",
    "                      labelcol='county',margin=100)"
   ]
  },
  {
   "cell_type": "code",
   "execution_count": null,
   "id": "b2953b00-112a-444f-abe8-b8fc2c97607f",
   "metadata": {},
   "outputs": [],
   "source": [
    "reload(rdiff)\n",
    "groups = X[X.sum(1)>40].index.get_level_values(0)\n",
    "\n",
    "for i,g in list(res.groupby('group')):\n",
    "    r=g.iloc[0]\n",
    "    if r.group in groups:\n",
    "        print (r.start,r.end,r.length)\n",
    "        rdiff.show_coverage(samples.sample(20),'NC_000962.3',r.start,r.end,app.mtb_genome,app.mtb_gb,minq=0,\n",
    "                           colors={'cat-003488':'red'},margin=200)"
   ]
  },
  {
   "cell_type": "code",
   "execution_count": null,
   "id": "716ac81e-6249-4dd9-ad73-4c21ef5cede1",
   "metadata": {},
   "outputs": [],
   "source": []
  }
 ],
 "metadata": {
  "kernelspec": {
   "display_name": "Python 3",
   "language": "python",
   "name": "python3"
  },
  "language_info": {
   "codemirror_mode": {
    "name": "ipython",
    "version": 3
   },
   "file_extension": ".py",
   "mimetype": "text/x-python",
   "name": "python",
   "nbconvert_exporter": "python",
   "pygments_lexer": "ipython3",
   "version": "3.9.7"
  }
 },
 "nbformat": 4,
 "nbformat_minor": 5
}
