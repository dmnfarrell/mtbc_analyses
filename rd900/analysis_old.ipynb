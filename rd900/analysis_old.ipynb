{
 "cells": [
  {
   "cell_type": "markdown",
   "metadata": {},
   "source": [
    "## RD900 region - identification of duplication events in MTBC\n",
    "\n",
    "**Objective:**\n",
    "\n",
    "Identify duplication events in RD900 MTBC using available genome assemblies.\n",
    "\n",
    "**Method:**\n",
    "\n",
    "1. identify assemblies to use including sub-sampling MTB an Mbovis genomes by choosing best qualities\n",
    "2. decide which sub sequences we want to use to detect presence of a gene in contigs\n",
    "3. for each assembly:\n",
    "    * make a blast database\n",
    "    * blast sub-sequence(s) to it\n",
    "    * store result\n",
    "4. make a matrix of presence absence for each genome\n",
    "5. make a species tree and use the blast hit matrix for ancestral state reconstruction\n",
    "\n",
    "**Links:**\n",
    "\n",
    "* https://github.com/dmnfarrell/rd900\n",
    "* https://www.ncbi.nlm.nih.gov/gene/1090581\n",
    "\n",
    "**Requirements:**\n",
    "\n",
    "To run this code you should install the following packages with pip:\n",
    "\n",
    "`pip install biopython bcbio-gff matplotlib pandas seaborn`"
   ]
  },
  {
   "cell_type": "markdown",
   "metadata": {},
   "source": [
    "<img src=\"img/pknh_orthologs.png\" width=500></img>"
   ]
  },
  {
   "cell_type": "code",
   "execution_count": 1,
   "metadata": {},
   "outputs": [],
   "source": [
    "import os, glob, subprocess, shutil\n",
    "import urllib\n",
    "from importlib import reload\n",
    "from Bio import SeqIO\n",
    "from Bio.Seq import Seq\n",
    "from Bio.SeqRecord import SeqRecord\n",
    "from Bio.SeqFeature import SeqFeature, FeatureLocation\n",
    "from BCBio import GFF\n",
    "import numpy as np\n",
    "import pandas as pd\n",
    "import pylab as plt\n",
    "import seaborn as sns\n",
    "import tools\n",
    "pd.set_option(\"display.width\",140)"
   ]
  },
  {
   "cell_type": "code",
   "execution_count": 3,
   "metadata": {},
   "outputs": [],
   "source": [
    "#samples = pd.read_csv('genomes_data.csv')\n",
    "assemblies = pd.read_csv('mtb_assemblies.csv')"
   ]
  },
  {
   "cell_type": "markdown",
   "metadata": {},
   "source": [
    "### Filter assemblies to use"
   ]
  },
  {
   "cell_type": "code",
   "execution_count": 4,
   "metadata": {},
   "outputs": [],
   "source": [
    "def sample_assemblies(asm, n=10):\n",
    "    res=[]\n",
    "    species = asm.species.unique()\n",
    "    for s in species:\n",
    "        df=asm[asm.species==s]\n",
    "        if len(df)>n:\n",
    "            df=df.sample(n=n, random_state=3)\n",
    "        res.append(df)\n",
    "    res=pd.concat(res)\n",
    "    return res"
   ]
  },
  {
   "cell_type": "code",
   "execution_count": 5,
   "metadata": {},
   "outputs": [
    {
     "name": "stdout",
     "output_type": "stream",
     "text": [
      "58 6600\n",
      "H37Rv         8\n",
      "bovis         8\n",
      "mtb           8\n",
      "africanum     8\n",
      "BCG           8\n",
      "CDC           7\n",
      "pinnipedii    3\n",
      "H37Ra         3\n",
      "caprae        3\n",
      "orygis        2\n",
      "Name: species, dtype: int64\n"
     ]
    }
   ],
   "source": [
    "filtered = assemblies[(assemblies.Level=='Complete Genome') | (~assemblies.species.isin(['mtb']))]\n",
    "omit = ['PRJNA407834','PRJNA287158','PRJNA214551']\n",
    "filtered = filtered[~filtered.BioProject.isin(omit)]\n",
    "\n",
    "filtered = sample_assemblies(filtered, 8)\n",
    "filtered = filtered[~filtered.species.isin(['marinum','ulcerans','liflandii','microti','canettii'])]\n",
    "\n",
    "filtered = filtered[~filtered.Assembly_nover.isin(['GCA_000328785','GCA_000328825'])]\n",
    "print (len(filtered),len(assemblies))\n",
    "print (filtered.species.value_counts())\n",
    "#print (filtered.columns)\n",
    "#print (filtered.BioProject.value_counts())"
   ]
  },
  {
   "cell_type": "markdown",
   "metadata": {},
   "source": [
    "### test data fetch"
   ]
  },
  {
   "cell_type": "code",
   "execution_count": 4,
   "metadata": {},
   "outputs": [
    {
     "data": {
      "text/plain": [
       "('assemblies/GCA_000934325.3.fa.gz', <email.message.Message at 0x7f81485b6160>)"
      ]
     },
     "execution_count": 4,
     "metadata": {},
     "output_type": "execute_result"
    }
   ],
   "source": [
    "url = assemblies.loc[0]['GenBank FTP']\n",
    "link = tools.get_url_from_path(url)\n",
    "name = 'GCA_000934325.3'\n",
    "urllib.request.urlretrieve(link, os.path.join('assemblies', name+'.fa.gz'))"
   ]
  },
  {
   "cell_type": "markdown",
   "metadata": {},
   "source": [
    "### determine sequences to blast using sub sequences within africanum RD900 region"
   ]
  },
  {
   "cell_type": "code",
   "execution_count": 6,
   "metadata": {},
   "outputs": [
    {
     "name": "stdout",
     "output_type": "stream",
     "text": [
      "CGGCGCGGCCTGGATGGGCGGCGGTGTGACGGTGGGCATGGTCGGCGGCTGCGCGGTTACCGCCGCGGTGCC\n"
     ]
    }
   ],
   "source": [
    "rd900seq = SeqIO.read('RD900MAF.fa',format='fasta')\n",
    "pknh1 = rd900seq[783:2663]\n",
    "pknh1.id = 'pknh1'\n",
    "tbd2 = rd900seq[2907:5303]\n",
    "tbd2.id = 'tbd2'\n",
    "pknh2 = rd900seq[5314:6981]\n",
    "pknh2.id='pknh2'\n",
    "pro_pknh1 = rd900seq[1612:1772]\n",
    "pro_pknh1.id = 'pro_pknh1'\n",
    "pro_pknh2 = rd900seq[6081:6153]\n",
    "pro_pknh2.id = 'pro_pknh2'\n",
    "pknh2_sensor = rd900seq[5314:6000]\n",
    "pknh2_sensor.id = 'pknh2_sensor'\n",
    "#print (pknh2_sensor.seq)\n",
    "#pro_bov = SeqRecord(Seq('ATCCACCCTGCCCGGCACCGCGGCGGTAACCGCGCAGCCGCCGACCATGCCCACCGTCACACCGCCGCCCATCCAGGCCGCGCCGA'),id='pknh1-bov')\n",
    "print (pro_pknh2.seq)"
   ]
  },
  {
   "cell_type": "markdown",
   "metadata": {},
   "source": [
    "### loop over assemblies and get results\n",
    "\n",
    "Here we loop over each assembly in the table and fetch the file remotely, make a blast db and "
   ]
  },
  {
   "cell_type": "code",
   "execution_count": null,
   "metadata": {},
   "outputs": [],
   "source": [
    "def blast_assemblies(seqs, df, pcov=.9):\n",
    "    \"\"\"blast search a set of assemblies for seqs\"\"\"\n",
    "    result=[]\n",
    "    for i,row in df.iterrows():\n",
    "        acc = row.Assembly\n",
    "        strain = row.Strain\n",
    "        species = row.species\n",
    "        full = row.Organism_Name\n",
    "        print (strain, acc, end='\\r')\n",
    "        url = row['GenBank FTP']\n",
    "        #get file\n",
    "        filename = os.path.join('assemblies', acc+'.fa.gz')\n",
    "        dbname = 'blastdb/%s.nsq' %acc\n",
    "        if not os.path.exists(filename):\n",
    "            link = tools.get_url_from_path(url)\n",
    "            urllib.request.urlretrieve(link, filename)\n",
    "            #make blast database for this genome\n",
    "            make_blast_db(filename, out=acc)\n",
    "        data={}\n",
    "        for seq in seqs:\n",
    "            #do blast\n",
    "            bl = tools.blast_sequences('blastdb/%s' %acc, seq)#, show_cmd=True)\n",
    "            bl['pcov'] = bl.length/len(seq)\n",
    "            #print (bl)\n",
    "            bl = bl[bl.pcov>pcovs]\n",
    "            if len(bl)>0:\n",
    "                x = bl.iloc[0]                \n",
    "                ident = x.pident\n",
    "            else:\n",
    "                ident = 0\n",
    "            data[seq.id] = ident\n",
    "        data['id'] = row.Assembly_nover\n",
    "        data['strain'] = strain\n",
    "        data['species'] = species\n",
    "        data['name'] = full\n",
    "        result.append(data)\n",
    "\n",
    "    result = pd.DataFrame(result)    \n",
    "    return result\n",
    "\n",
    "seqs = [pro_pknh1,pro_pknh2,pknh2_sensor]\n",
    "result = blast_assemblies(seqs, filtered, pcov=.9)\n",
    "result.to_csv('rd900_region_hits.csv',index=False)"
   ]
  },
  {
   "cell_type": "code",
   "execution_count": 8,
   "metadata": {},
   "outputs": [
    {
     "data": {
      "image/png": "[encoded data removed]",
      "text/plain": [
       "<Figure size 1440x360 with 4 Axes>"
      ]
     },
     "metadata": {
      "needs_background": "light"
     },
     "output_type": "display_data"
    }
   ],
   "source": [
    "result = pd.read_csv('rd900_region_hits.csv')\n",
    "X=result.set_index(['species','strain']).drop(columns=['name','id'])\n",
    "cg=sns.clustermap(X.T,cmap='gray_r',yticklabels=1,lw=.5,figsize=(20,5))\n",
    "x=plt.setp(cg.ax_heatmap.yaxis.get_majorticklabels(), rotation=0)\n",
    "#sns.heatmap(X.T)"
   ]
  },
  {
   "cell_type": "markdown",
   "metadata": {},
   "source": [
    "### Species tree with ANIs\n",
    "\n",
    "pyani: `average_nucleotide_identity.py -o ANIm_out -i temp -m ANIm -f` (too slow)\n",
    "\n",
    "fastANI: `fastANI --ql reference.txt --rl query.txt -o fastani.out -t 10`\n",
    "\n",
    "https://github.com/ParBLiSS/FastANI.git"
   ]
  },
  {
   "cell_type": "markdown",
   "metadata": {},
   "source": [
    "### make file lists for FastANI"
   ]
  },
  {
   "cell_type": "code",
   "execution_count": 9,
   "metadata": {},
   "outputs": [
    {
     "name": "stdout",
     "output_type": "stream",
     "text": [
      "58\n"
     ]
    },
    {
     "data": {
      "text/plain": [
       "'reference.txt'"
      ]
     },
     "execution_count": 9,
     "metadata": {},
     "output_type": "execute_result"
    }
   ],
   "source": [
    "names = list(filtered.Assembly_nover)\n",
    "l=[]\n",
    "for f in glob.glob('assemblies/*.fa.gz'):\n",
    "    n=os.path.basename(f).split('.')[0]\n",
    "    if n in names:\n",
    "        l.append(f)\n",
    "print (len(l))\n",
    "with open('query.txt', 'w') as infile:\n",
    "    infile.write('\\n'.join(l))\n",
    "shutil.copyfile('query.txt','reference.txt')"
   ]
  },
  {
   "cell_type": "markdown",
   "metadata": {},
   "source": [
    "## run fastANI"
   ]
  },
  {
   "cell_type": "code",
   "execution_count": null,
   "metadata": {},
   "outputs": [],
   "source": [
    "cmd = 'fastANI --ql reference.txt --rl query.txt -o fastani.out -t 12'\n",
    "subprocess.check_output(cmd,shell=True)"
   ]
  },
  {
   "cell_type": "code",
   "execution_count": 10,
   "metadata": {},
   "outputs": [],
   "source": [
    "def get_fastani():\n",
    "    import re\n",
    "    df = pd.read_csv('fastani.out',sep='\\t',names=['query','ref','ident','x','y'])\n",
    "    df['query'] = df['query'].apply(lambda x: re.split(r\"[\\./]+\",x)[1])\n",
    "    df['ref'] = df['ref'].apply(lambda x: re.split(r\"[\\./]+\",x)[1])\n",
    "    x = pd.pivot_table(df,index='query',values='ident',columns=['ref'])\n",
    "    return x"
   ]
  },
  {
   "cell_type": "code",
   "execution_count": 14,
   "metadata": {},
   "outputs": [],
   "source": [
    "anim = get_fastani()\n",
    "df = filtered.set_index('Assembly_nover').species\n",
    "mapping = df.to_dict()\n",
    "mapping\n",
    "anim.index = anim.index.map(mapping)\n",
    "anim['species'] = anim.index.map(mapping)\n",
    "anim.to_csv('ani_matrix.csv')\n",
    "#anim.species\n"
   ]
  },
  {
   "cell_type": "code",
   "execution_count": null,
   "metadata": {},
   "outputs": [],
   "source": [
    "cl=sns.clustermap(anim,xticklabels=1,yticklabels=1,cmap='coolwarm',figsize=(12,12))\n",
    "cl.savefig('anim_clustermap.png',dpi=150)"
   ]
  },
  {
   "cell_type": "code",
   "execution_count": null,
   "metadata": {},
   "outputs": [],
   "source": []
  }
 ],
 "metadata": {
  "kernelspec": {
   "display_name": "Python 3",
   "language": "python",
   "name": "python3"
  },
  "language_info": {
   "codemirror_mode": {
    "name": "ipython",
    "version": 3
   },
   "file_extension": ".py",
   "mimetype": "text/x-python",
   "name": "python",
   "nbconvert_exporter": "python",
   "pygments_lexer": "ipython3",
   "version": "3.8.6"
  }
 },
 "nbformat": 4,
 "nbformat_minor": 4
}
