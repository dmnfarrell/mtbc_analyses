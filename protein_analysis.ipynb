{
 "cells": [
  {
   "cell_type": "markdown",
   "metadata": {},
   "source": [
    "## protein sequence identity across genome assemblies\n",
    "\n",
    "* find all assemblies for species we need\n",
    "* download protein fasta\n",
    "* make blast db for all seqs\n",
    "* blast a tempalte target protein e.g. pknh1 \n",
    "* find best hits for each species?\n",
    "* store each protein seq per species and get identities etc.\n",
    "\n",
    "alternatives could be to use roary for clustering?"
   ]
  },
  {
   "cell_type": "code",
   "execution_count": 31,
   "metadata": {},
   "outputs": [],
   "source": [
    "import os, glob, subprocess, gzip, urllib\n",
    "from Bio import SeqIO\n",
    "from Bio.Seq import Seq\n",
    "from Bio.SeqRecord import SeqRecord\n",
    "from Bio.SeqFeature import SeqFeature, FeatureLocation\n",
    "from Bio import Phylo, AlignIO\n",
    "from pylab import plt\n",
    "import pandas as pd\n",
    "import numpy as np\n",
    "from epitopepredict import sequtils, utilities\n",
    "pd.set_option('display.width', 180)\n",
    "pd.set_option('max_colwidth', 120)\n",
    "import tools"
   ]
  },
  {
   "cell_type": "code",
   "execution_count": 2,
   "metadata": {},
   "outputs": [],
   "source": [
    "species = ['africanum','h37rv','h37ra','beijing','caprae','microti','ulcerans','marinum','canettii','BCG','bovis','pinnipedii','cdc']\n",
    "def get_species(x):\n",
    "    for s in species:\n",
    "        if x.lower().find(s) != -1:\n",
    "            return s\n",
    "    return 'mtb'"
   ]
  },
  {
   "cell_type": "code",
   "execution_count": 85,
   "metadata": {},
   "outputs": [
    {
     "name": "stdout",
     "output_type": "stream",
     "text": [
      "255\n",
      "mtb           87\n",
      "BCG           37\n",
      "africanum     31\n",
      "bovis         28\n",
      "marinum       25\n",
      "H37Rv          9\n",
      "canettii       9\n",
      "ulcerans       7\n",
      "CDC            7\n",
      "H37Ra          3\n",
      "caprae         3\n",
      "microti        3\n",
      "pinnipedii     3\n",
      "orygis         2\n",
      "liflandii      1\n",
      "Name: species, dtype: int64\n"
     ]
    }
   ],
   "source": [
    "df=pd.read_csv('genomes_data.csv')\n",
    "asm = pd.read_csv('mtb_assemblies.csv')\n",
    "\n",
    "filtered=asm[(asm.Level=='Complete Genome') | (~asm.species.isin(['mtb']))]\n",
    "omit = ['PRJNA407834','PRJNA287158','PRJNA214551']\n",
    "filtered = filtered[~filtered.BioProject.isin(omit)]\n",
    "\n",
    "#include some extra mtb strains\n",
    "include = ['']\n",
    "#filtered=filtered[(filtered.species!='mtb')]\n",
    "print (len(filtered))\n",
    "print (filtered.species.value_counts())"
   ]
  },
  {
   "cell_type": "markdown",
   "metadata": {},
   "source": [
    "## create protein fasta of all target assemblies"
   ]
  },
  {
   "cell_type": "code",
   "execution_count": null,
   "metadata": {},
   "outputs": [],
   "source": [
    "def create_protein_fasta():\n",
    "    path='prot_assemblies'\n",
    "    new=open('myco_proteins.faa','w')\n",
    "    for i,row in list(filtered.iterrows()):\n",
    "        acc = row.Assembly\n",
    "        url = row['GenBank FTP']        \n",
    "        filename = os.path.join(path, acc+'.faa.gz')\n",
    "        if not os.path.exists(filename):\n",
    "            label = os.path.basename(url)            \n",
    "            link = os.path.join(url,label+'_protein.faa.gz')\n",
    "            print (link)\n",
    "            try:\n",
    "                urllib.request.urlretrieve(link, filename)\n",
    "            except:\n",
    "                continue\n",
    "        print (row.Assembly, row.Strain, row.BioProject)\n",
    "        with gzip.open(filename, \"rt\") as handle:\n",
    "            seqs = list(SeqIO.parse(handle, \"fasta\"))\n",
    "            #print (len(seqs))\n",
    "            for s in seqs:\n",
    "                s.description += '_'+r.Strain\n",
    "            new=open('myco_proteins.faa','a')\n",
    "            SeqIO.write(seqs,new,'fasta')\n",
    "            \n",
    "create_protein_fasta()"
   ]
  },
  {
   "cell_type": "markdown",
   "metadata": {},
   "source": [
    "## make blast db "
   ]
  },
  {
   "cell_type": "code",
   "execution_count": 88,
   "metadata": {},
   "outputs": [],
   "source": [
    "cmd='makeblastdb -in myco_proteins.faa -dbtype prot -out myco_proteins'\n",
    "temp=subprocess.check_output(cmd,shell=True)"
   ]
  },
  {
   "cell_type": "code",
   "execution_count": 89,
   "metadata": {},
   "outputs": [],
   "source": [
    "def find_orthologs(query, label):\n",
    "    \"\"\"Find hits in a target db and save unique sequences\"\"\"\n",
    "    \n",
    "    bl = sequtils.blast_sequences('myco_proteins',[query],cpus=8,maxseqs=200)\n",
    "    #print (bl)\n",
    "    bl=bl[(bl.pident>50) & (bl.qcovs>70)]\n",
    "    #get unique\n",
    "    bl=bl.drop_duplicates('sseq')\n",
    "    print (len(bl))\n",
    "\n",
    "    bl['strain'] = bl.stitle.apply(lambda x: x.split('_')[1])\n",
    "    bl['species'] = bl.stitle.apply(get_species)\n",
    "    cols=['sseqid','strain','species','pident','stitle']\n",
    "    #print (bl[cols][:10])\n",
    "    print ('found %s unique hits' %len(bl))\n",
    "    print (bl.groupby('species').agg({'strain':np.size}))\n",
    "    \n",
    "    #save hits\n",
    "    seqs = [SeqRecord(Seq(r.sseq), id=r.sseqid+'_'+r.species, description=r.species) for i,r in bl.iterrows()]\n",
    "    seqs.append(query)\n",
    "    SeqIO.write(seqs,'%s_hits.faa' %label,'fasta')\n",
    "    #align results\n",
    "    #alncmd=\"/usr/bin/mafft --auto --clustalout --reorder pknh1_hits.faa > pknh1_hits.aln\"\n",
    "    alncmd=\"muscle -in {l}_hits.faa -out {l}_hits.aln\".format(l=label)\n",
    "    tmp=subprocess.check_output(alncmd, shell=True)\n",
    "    \n",
    "    #aln = AlignIO.read('%s_hits.aln' %label,'fasta')\n",
    "    #dm,tree=get_tree(aln)\n",
    "    #Phylo.write([tree], '%s.newick' %label, 'newick')\n",
    "    return bl\n"
   ]
  },
  {
   "cell_type": "markdown",
   "metadata": {},
   "source": [
    "## blast a query"
   ]
  },
  {
   "cell_type": "code",
   "execution_count": 90,
   "metadata": {},
   "outputs": [
    {
     "name": "stdout",
     "output_type": "stream",
     "text": [
      "ID: pknH3-proregion\n",
      "Name: pknH3-proregion\n",
      "Description: pknH3-proregion WP_012395731.1 serine/threonine protein kinase [Mycobacterium marinum] pknH3\n",
      "Number of features: 0\n",
      "Seq('MPYADPASSGPLPQSAPTGQPGWAPASGPIPAAHQPAQVPQYYQSGSWASTPPG...QPV', SingleLetterAlphabet())\n",
      "6\n",
      "found 6 unique hits\n",
      "           strain\n",
      "species          \n",
      "africanum       1\n",
      "canettii        1\n",
      "h37rv           1\n",
      "marinum         2\n",
      "ulcerans        1\n"
     ]
    }
   ],
   "source": [
    "name='pknh3-pro'\n",
    "#name='pknh1'\n",
    "myseq = SeqIO.read('%s.fa' %name,'fasta')\n",
    "print (myseq)\n",
    "bl = find_orthologs(myseq, label=name)"
   ]
  },
  {
   "cell_type": "code",
   "execution_count": 203,
   "metadata": {},
   "outputs": [
    {
     "data": {
      "text/plain": [
       "1"
      ]
     },
     "execution_count": 203,
     "metadata": {},
     "output_type": "execute_result"
    }
   ],
   "source": [
    "#r=Phylo.parse('trees.xml', 'phyloxml')\n",
    "#tree=r.next()\n",
    "#f,tr=draw_tree(tree,root='AOZ42422.1_mtb', title='pknh1')\n"
   ]
  },
  {
   "cell_type": "code",
   "execution_count": null,
   "metadata": {},
   "outputs": [],
   "source": []
  }
 ],
 "metadata": {
  "kernelspec": {
   "display_name": "Python 3",
   "language": "python",
   "name": "python3"
  },
  "language_info": {
   "codemirror_mode": {
    "name": "ipython",
    "version": 3
   },
   "file_extension": ".py",
   "mimetype": "text/x-python",
   "name": "python",
   "nbconvert_exporter": "python",
   "pygments_lexer": "ipython3",
   "version": "3.7.3"
  }
 },
 "nbformat": 4,
 "nbformat_minor": 4
}
