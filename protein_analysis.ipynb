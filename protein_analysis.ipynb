{
 "cells": [
  {
   "cell_type": "markdown",
   "metadata": {},
   "source": [
    "## protein sequence identity across genome assemblies\n",
    "\n",
    "* find all assemblies for species we need\n",
    "* download protein fasta\n",
    "* make blast db for all seqs\n",
    "* blast a tempalte target protein e.g. pknh1 \n",
    "* find best hits for each species?\n",
    "* store each protein seq per species and get identities etc.\n",
    "\n",
    "alternatives could be to use roary for clustering?"
   ]
  },
  {
   "cell_type": "code",
   "execution_count": 113,
   "metadata": {},
   "outputs": [],
   "source": [
    "import os, glob, subprocess, gzip\n",
    "from Bio import SeqIO\n",
    "from Bio.Seq import Seq\n",
    "from Bio.SeqRecord import SeqRecord\n",
    "from Bio.SeqFeature import SeqFeature, FeatureLocation\n",
    "from Bio import Phylo, AlignIO\n",
    "from pylab import plt\n",
    "import pandas as pd\n",
    "import numpy as np\n",
    "from epitopepredict import sequtils, utilities\n",
    "pd.set_option('display.width', 180)\n",
    "pd.set_option('max_colwidth', 120)\n",
    "from tools import *"
   ]
  },
  {
   "cell_type": "code",
   "execution_count": 188,
   "metadata": {},
   "outputs": [],
   "source": [
    "species = ['africanum','h37rv','h37ra','beijing','caprae','microti','ulcerans','marinum','canettii','BCG','bovis','pinnipedii','cdc']\n",
    "def get_species(x):\n",
    "    for s in species:\n",
    "        if x.lower().find(s) != -1:\n",
    "            return s\n",
    "    return 'mtb'"
   ]
  },
  {
   "cell_type": "code",
   "execution_count": 230,
   "metadata": {},
   "outputs": [
    {
     "name": "stdout",
     "output_type": "stream",
     "text": [
      "209\n",
      "            BioSample\n",
      "species              \n",
      "bovis             107\n",
      "africanum          31\n",
      "marinum            25\n",
      "canettii            9\n",
      "h37rv               9\n",
      "cdc                 7\n",
      "ulcerans            7\n",
      "caprae              3\n",
      "h37ra               3\n",
      "microti             3\n",
      "pinnipedii          3\n",
      "beijing             2\n"
     ]
    }
   ],
   "source": [
    "df=pd.read_csv('Genome_data.csv')\n",
    "df2=pd.read_csv('mtb_assemblies.csv')\n",
    "df2['species'] = df2['#Organism/Name'].apply(get_species)\n",
    "#df2.to_csv('mtb_assemblies.csv',index=False)\n",
    "#print (df2.columns)\n",
    "\n",
    "#omit = ['PRJNA343736','PRJEB2138']\n",
    "#df2=df2[~df2.BioProject.isin(omit)]\n",
    "#print (df2[:5])\n",
    "\n",
    "#include some extra mtb strains\n",
    "include = ['']\n",
    "df2=df2[(df2.species!='mtb')]\n",
    "print (len(df2))\n",
    "print (df2.groupby('species').agg({'BioSample':np.size}).sort_values(by='BioSample',ascending=False))"
   ]
  },
  {
   "cell_type": "code",
   "execution_count": null,
   "metadata": {},
   "outputs": [],
   "source": [
    "asm=df.merge(df2,left_on='BIOSAMPLE',right_on='BioSample')\n",
    "print (asm)"
   ]
  },
  {
   "cell_type": "markdown",
   "metadata": {},
   "source": [
    "## create protein fasta of all target assemblies"
   ]
  },
  {
   "cell_type": "code",
   "execution_count": 190,
   "metadata": {},
   "outputs": [],
   "source": [
    "path='../myco_assemblies/'\n",
    "new=open('myco_proteins.faa','w')\n",
    "for i,r in list(df2.iterrows()):    \n",
    "    try:\n",
    "        filename = glob.glob(path+'{n}*'.format(n=r.Assembly))[0]    \n",
    "    except:\n",
    "        continue\n",
    "    #print (r.Assembly, r.Strain, r.BioProject)\n",
    "    with gzip.open(filename, \"rt\") as handle:\n",
    "        seqs = list(SeqIO.parse(handle, \"fasta\"))\n",
    "        #print (len(seqs))\n",
    "        for s in seqs:\n",
    "            s.description += '_'+r.Strain\n",
    "        new=open('myco_proteins.faa','a')\n",
    "        SeqIO.write(seqs,new,'fasta')"
   ]
  },
  {
   "cell_type": "markdown",
   "metadata": {},
   "source": [
    "## make blast db "
   ]
  },
  {
   "cell_type": "code",
   "execution_count": 191,
   "metadata": {},
   "outputs": [],
   "source": [
    "cmd='makeblastdb -in myco_proteins.faa -dbtype prot -out myco_proteins'\n",
    "temp=subprocess.check_output(cmd,shell=True)"
   ]
  },
  {
   "cell_type": "code",
   "execution_count": 234,
   "metadata": {},
   "outputs": [],
   "source": [
    "def find_orthologs(query, label):\n",
    "    \"\"\"Find hits in a target db and save unique sequences\"\"\"\n",
    "    \n",
    "    bl = sequtils.blast_sequences('myco_proteins',[myseq],cpus=8,maxseqs=1000)\n",
    "    #print (bl)\n",
    "    bl=bl[(bl.pident>90) & (bl.qcovs>90)]\n",
    "    #get unique\n",
    "    bl=bl.drop_duplicates('sseq')\n",
    "    print (len(bl))\n",
    "\n",
    "    bl['strain'] = bl.stitle.apply(lambda x: x.split('_')[1])\n",
    "    #print (bl)\n",
    "    bl['species'] = bl.stitle.apply(get_species)\n",
    "    cols=['sseqid','strain','species','pident','stitle']\n",
    "    #print (bl[cols][:10])\n",
    "    print ('found %s unique hits' %len(bl))\n",
    "    print (bl.groupby('species').agg({'strain':np.size}))\n",
    "    \n",
    "    #save hits    \n",
    "    seqs = [SeqRecord(Seq(r.sseq), id=r.sseqid+'_'+r.species, description=r.species) for i,r in bl.iterrows()]\n",
    "    SeqIO.write(seqs,'%s_hits.faa' %label,'fasta')\n",
    "    #align results\n",
    "    #alncmd=\"/usr/bin/mafft --auto --clustalout --reorder pknh1_hits.faa > pknh1_hits.aln\"\n",
    "    alncmd=\"muscle -in {l}_hits.faa -out {l}_hits.aln\".format(l=label)\n",
    "    tmp=subprocess.check_output(alncmd, shell=True)\n",
    "    \n",
    "    aln = AlignIO.read('%s_hits.aln' %label,'fasta')\n",
    "    dm,tree=get_tree(aln)\n",
    "    Phylo.write([tree], '%s.newick' %label, 'newick')\n",
    "    return bl\n"
   ]
  },
  {
   "cell_type": "markdown",
   "metadata": {},
   "source": [
    "## blast a query"
   ]
  },
  {
   "cell_type": "code",
   "execution_count": 237,
   "metadata": {},
   "outputs": [
    {
     "name": "stdout",
     "output_type": "stream",
     "text": [
      "ID: pknh1_mtb\n",
      "Name: pknh1_mtb\n",
      "Description: pknh1_mtb\n",
      "Number of features: 0\n",
      "Seq('MSDAQDSRVGSMFGPYHLKRLLGRGGMGEVYEAEHTVKEWTVAVKLMTAEFSKD...NKE', SingleLetterAlphabet())\n",
      "27\n",
      "found 27 unique hits\n",
      "           strain\n",
      "species          \n",
      "africanum       5\n",
      "bovis          16\n",
      "canettii        4\n",
      "cdc             1\n",
      "h37rv           1\n"
     ]
    }
   ],
   "source": [
    "myseqs=list(SeqIO.parse('pknh_orthologs.fa','fasta'))\n",
    "#myseqs=list(SeqIO.parse('tbd2.faa','fasta'))\n",
    "myseq = myseqs[0]\n",
    "print (myseq)\n",
    "\n",
    "bl = find_orthologs(myseq, label=\"pknh1\")\n"
   ]
  },
  {
   "cell_type": "code",
   "execution_count": 203,
   "metadata": {},
   "outputs": [
    {
     "data": {
      "text/plain": [
       "1"
      ]
     },
     "execution_count": 203,
     "metadata": {},
     "output_type": "execute_result"
    }
   ],
   "source": [
    "#r=Phylo.parse('trees.xml', 'phyloxml')\n",
    "#tree=r.next()\n",
    "#f,tr=draw_tree(tree,root='AOZ42422.1_mtb', title='pknh1')\n"
   ]
  },
  {
   "cell_type": "code",
   "execution_count": null,
   "metadata": {},
   "outputs": [],
   "source": []
  }
 ],
 "metadata": {
  "kernelspec": {
   "display_name": "Python 3",
   "language": "python",
   "name": "python3"
  },
  "language_info": {
   "codemirror_mode": {
    "name": "ipython",
    "version": 3
   },
   "file_extension": ".py",
   "mimetype": "text/x-python",
   "name": "python",
   "nbconvert_exporter": "python",
   "pygments_lexer": "ipython3",
   "version": "3.7.3"
  }
 },
 "nbformat": 4,
 "nbformat_minor": 2
}
